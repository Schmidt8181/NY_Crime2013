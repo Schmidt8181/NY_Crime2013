{
 "cells": [
  {
   "cell_type": "code",
   "execution_count": 175,
   "metadata": {
    "collapsed": true
   },
   "outputs": [],
   "source": [
    "%matplotlib inline\n",
    "import numpy as np\n",
    "import pandas as pd\n",
    "import scipy\n",
    "import sklearn\n",
    "from sklearn import linear_model\n",
    "from sklearn.model_selection import train_test_split\n",
    "from sklearn import preprocessing\n",
    "import matplotlib.pyplot as plt\n",
    "import seaborn as sns"
   ]
  },
  {
   "cell_type": "markdown",
   "metadata": {},
   "source": [
    "# Linear Regression Model challenge\n",
    "\n",
    "First, I set up the working environment. Next, I imported my data, making sure to capture the correct column names and leave out extranious rows. Then I took my first look at the data."
   ]
  },
  {
   "cell_type": "code",
   "execution_count": 176,
   "metadata": {
    "scrolled": false
   },
   "outputs": [
    {
     "data": {
      "text/html": [
       "<div>\n",
       "<style>\n",
       "    .dataframe thead tr:only-child th {\n",
       "        text-align: right;\n",
       "    }\n",
       "\n",
       "    .dataframe thead th {\n",
       "        text-align: left;\n",
       "    }\n",
       "\n",
       "    .dataframe tbody tr th {\n",
       "        vertical-align: top;\n",
       "    }\n",
       "</style>\n",
       "<table border=\"1\" class=\"dataframe\">\n",
       "  <thead>\n",
       "    <tr style=\"text-align: right;\">\n",
       "      <th></th>\n",
       "      <th>City</th>\n",
       "      <th>Population</th>\n",
       "      <th>Violent\n",
       "crime</th>\n",
       "      <th>Murder and\n",
       "nonnegligent\n",
       "manslaughter</th>\n",
       "      <th>Rape\n",
       "(revised\n",
       "definition)1</th>\n",
       "      <th>Rape\n",
       "(legacy\n",
       "definition)2</th>\n",
       "      <th>Robbery</th>\n",
       "      <th>Aggravated\n",
       "assault</th>\n",
       "      <th>Property\n",
       "crime</th>\n",
       "      <th>Burglary</th>\n",
       "      <th>Larceny-\n",
       "theft</th>\n",
       "      <th>Motor\n",
       "vehicle\n",
       "theft</th>\n",
       "      <th>Arson3</th>\n",
       "    </tr>\n",
       "  </thead>\n",
       "  <tbody>\n",
       "    <tr>\n",
       "      <th>0</th>\n",
       "      <td>Adams Village</td>\n",
       "      <td>1,861</td>\n",
       "      <td>0</td>\n",
       "      <td>0.0</td>\n",
       "      <td>NaN</td>\n",
       "      <td>0</td>\n",
       "      <td>0</td>\n",
       "      <td>0</td>\n",
       "      <td>12</td>\n",
       "      <td>2</td>\n",
       "      <td>10</td>\n",
       "      <td>0</td>\n",
       "      <td>0.0</td>\n",
       "    </tr>\n",
       "    <tr>\n",
       "      <th>1</th>\n",
       "      <td>Addison Town and Village</td>\n",
       "      <td>2,577</td>\n",
       "      <td>3</td>\n",
       "      <td>0.0</td>\n",
       "      <td>NaN</td>\n",
       "      <td>0</td>\n",
       "      <td>0</td>\n",
       "      <td>3</td>\n",
       "      <td>24</td>\n",
       "      <td>3</td>\n",
       "      <td>20</td>\n",
       "      <td>1</td>\n",
       "      <td>0.0</td>\n",
       "    </tr>\n",
       "    <tr>\n",
       "      <th>2</th>\n",
       "      <td>Akron Village</td>\n",
       "      <td>2,846</td>\n",
       "      <td>3</td>\n",
       "      <td>0.0</td>\n",
       "      <td>NaN</td>\n",
       "      <td>0</td>\n",
       "      <td>0</td>\n",
       "      <td>3</td>\n",
       "      <td>16</td>\n",
       "      <td>1</td>\n",
       "      <td>15</td>\n",
       "      <td>0</td>\n",
       "      <td>0.0</td>\n",
       "    </tr>\n",
       "    <tr>\n",
       "      <th>3</th>\n",
       "      <td>Albany</td>\n",
       "      <td>97,956</td>\n",
       "      <td>791</td>\n",
       "      <td>8.0</td>\n",
       "      <td>NaN</td>\n",
       "      <td>30</td>\n",
       "      <td>227</td>\n",
       "      <td>526</td>\n",
       "      <td>4,090</td>\n",
       "      <td>705</td>\n",
       "      <td>3,243</td>\n",
       "      <td>142</td>\n",
       "      <td>NaN</td>\n",
       "    </tr>\n",
       "    <tr>\n",
       "      <th>4</th>\n",
       "      <td>Albion Village</td>\n",
       "      <td>6,388</td>\n",
       "      <td>23</td>\n",
       "      <td>0.0</td>\n",
       "      <td>NaN</td>\n",
       "      <td>3</td>\n",
       "      <td>4</td>\n",
       "      <td>16</td>\n",
       "      <td>223</td>\n",
       "      <td>53</td>\n",
       "      <td>165</td>\n",
       "      <td>5</td>\n",
       "      <td>NaN</td>\n",
       "    </tr>\n",
       "  </tbody>\n",
       "</table>\n",
       "</div>"
      ],
      "text/plain": [
       "                       City Population Violent\\ncrime  \\\n",
       "0             Adams Village      1,861              0   \n",
       "1  Addison Town and Village      2,577              3   \n",
       "2             Akron Village      2,846              3   \n",
       "3                    Albany     97,956            791   \n",
       "4            Albion Village      6,388             23   \n",
       "\n",
       "   Murder and\\nnonnegligent\\nmanslaughter  Rape\\n(revised\\ndefinition)1  \\\n",
       "0                                     0.0                           NaN   \n",
       "1                                     0.0                           NaN   \n",
       "2                                     0.0                           NaN   \n",
       "3                                     8.0                           NaN   \n",
       "4                                     0.0                           NaN   \n",
       "\n",
       "  Rape\\n(legacy\\ndefinition)2 Robbery Aggravated\\nassault Property\\ncrime  \\\n",
       "0                           0       0                   0              12   \n",
       "1                           0       0                   3              24   \n",
       "2                           0       0                   3              16   \n",
       "3                          30     227                 526           4,090   \n",
       "4                           3       4                  16             223   \n",
       "\n",
       "  Burglary Larceny-\\ntheft Motor\\nvehicle\\ntheft  Arson3  \n",
       "0        2              10                     0     0.0  \n",
       "1        3              20                     1     0.0  \n",
       "2        1              15                     0     0.0  \n",
       "3      705           3,243                   142     NaN  \n",
       "4       53             165                     5     NaN  "
      ]
     },
     "execution_count": 176,
     "metadata": {},
     "output_type": "execute_result"
    }
   ],
   "source": [
    "data = ('/Users/Beba/Documents/JupyterNotebooks/NY2013Crimes.csv')\n",
    "raw_crimes = pd.read_csv(data, skiprows=4)\n",
    "raw_crimes.head()"
   ]
  },
  {
   "cell_type": "markdown",
   "metadata": {},
   "source": [
    "## The next step is to do some data cleaning, rearranging and scaling."
   ]
  },
  {
   "cell_type": "code",
   "execution_count": 5,
   "metadata": {
    "collapsed": true
   },
   "outputs": [],
   "source": [
    "Property_Crime = pd.DataFrame()"
   ]
  },
  {
   "cell_type": "code",
   "execution_count": 6,
   "metadata": {
    "collapsed": true
   },
   "outputs": [],
   "source": [
    "Property_Crime['City'] = raw_crimes['City']\n",
    "Property_Crime['Population'] = raw_crimes['Population']\n",
    "Property_Crime['Robbery'] = raw_crimes['Robbery']\n",
    "Property_Crime['Murder'] = raw_crimes['Murder and\\nnonnegligent\\nmanslaughter']"
   ]
  },
  {
   "cell_type": "code",
   "execution_count": 7,
   "metadata": {
    "collapsed": true
   },
   "outputs": [],
   "source": [
    "Property_Crime['Population'] = Property_Crime['Population'].str.replace(',','').astype(float)"
   ]
  },
  {
   "cell_type": "code",
   "execution_count": 8,
   "metadata": {
    "collapsed": true
   },
   "outputs": [],
   "source": [
    "Property_Crime['PopulationSQ'] = Property_Crime['Population'].apply(lambda x: x*x)"
   ]
  },
  {
   "cell_type": "code",
   "execution_count": 13,
   "metadata": {},
   "outputs": [
    {
     "data": {
      "text/html": [
       "<div>\n",
       "<style>\n",
       "    .dataframe thead tr:only-child th {\n",
       "        text-align: right;\n",
       "    }\n",
       "\n",
       "    .dataframe thead th {\n",
       "        text-align: left;\n",
       "    }\n",
       "\n",
       "    .dataframe tbody tr th {\n",
       "        vertical-align: top;\n",
       "    }\n",
       "</style>\n",
       "<table border=\"1\" class=\"dataframe\">\n",
       "  <thead>\n",
       "    <tr style=\"text-align: right;\">\n",
       "      <th></th>\n",
       "      <th>City</th>\n",
       "      <th>Population</th>\n",
       "      <th>Robbery</th>\n",
       "      <th>Murder</th>\n",
       "      <th>PopulationSQ</th>\n",
       "    </tr>\n",
       "  </thead>\n",
       "  <tbody>\n",
       "    <tr>\n",
       "      <th>0</th>\n",
       "      <td>Adams Village</td>\n",
       "      <td>1861.0</td>\n",
       "      <td>0</td>\n",
       "      <td>0.0</td>\n",
       "      <td>3.463321e+06</td>\n",
       "    </tr>\n",
       "    <tr>\n",
       "      <th>1</th>\n",
       "      <td>Addison Town and Village</td>\n",
       "      <td>2577.0</td>\n",
       "      <td>0</td>\n",
       "      <td>0.0</td>\n",
       "      <td>6.640929e+06</td>\n",
       "    </tr>\n",
       "    <tr>\n",
       "      <th>2</th>\n",
       "      <td>Akron Village</td>\n",
       "      <td>2846.0</td>\n",
       "      <td>0</td>\n",
       "      <td>0.0</td>\n",
       "      <td>8.099716e+06</td>\n",
       "    </tr>\n",
       "    <tr>\n",
       "      <th>3</th>\n",
       "      <td>Albany</td>\n",
       "      <td>97956.0</td>\n",
       "      <td>227</td>\n",
       "      <td>8.0</td>\n",
       "      <td>9.595378e+09</td>\n",
       "    </tr>\n",
       "    <tr>\n",
       "      <th>4</th>\n",
       "      <td>Albion Village</td>\n",
       "      <td>6388.0</td>\n",
       "      <td>4</td>\n",
       "      <td>0.0</td>\n",
       "      <td>4.080654e+07</td>\n",
       "    </tr>\n",
       "  </tbody>\n",
       "</table>\n",
       "</div>"
      ],
      "text/plain": [
       "                       City  Population Robbery  Murder  PopulationSQ\n",
       "0             Adams Village      1861.0       0     0.0  3.463321e+06\n",
       "1  Addison Town and Village      2577.0       0     0.0  6.640929e+06\n",
       "2             Akron Village      2846.0       0     0.0  8.099716e+06\n",
       "3                    Albany     97956.0     227     8.0  9.595378e+09\n",
       "4            Albion Village      6388.0       4     0.0  4.080654e+07"
      ]
     },
     "execution_count": 13,
     "metadata": {},
     "output_type": "execute_result"
    }
   ],
   "source": [
    "Property_Crime.head()"
   ]
  },
  {
   "cell_type": "code",
   "execution_count": 58,
   "metadata": {},
   "outputs": [],
   "source": [
    "Property_Crime['Robbery'] = Property_Crime['Robbery'].astype(str)"
   ]
  },
  {
   "cell_type": "code",
   "execution_count": 65,
   "metadata": {},
   "outputs": [],
   "source": [
    "Property_Crime['Robbery_Category'] = np.where(Property_Crime['Robbery'].str.contains(\"0.0\"), 0, 1)"
   ]
  },
  {
   "cell_type": "code",
   "execution_count": 68,
   "metadata": {},
   "outputs": [],
   "source": [
    "Property_Crime['Murder'] = Property_Crime['Murder'].astype(str)\n",
    "Property_Crime['Murder_Category'] = np.where(Property_Crime['Murder'].str.contains(\"0.0\"), 0, 1)"
   ]
  },
  {
   "cell_type": "code",
   "execution_count": 72,
   "metadata": {},
   "outputs": [],
   "source": [
    "Property_Crime.drop(['Robbery'], axis=1, inplace=True)\n",
    "Property_Crime.drop(['Murder'], axis=1, inplace=True)"
   ]
  },
  {
   "cell_type": "code",
   "execution_count": 76,
   "metadata": {},
   "outputs": [
    {
     "data": {
      "text/html": [
       "<div>\n",
       "<style>\n",
       "    .dataframe thead tr:only-child th {\n",
       "        text-align: right;\n",
       "    }\n",
       "\n",
       "    .dataframe thead th {\n",
       "        text-align: left;\n",
       "    }\n",
       "\n",
       "    .dataframe tbody tr th {\n",
       "        vertical-align: top;\n",
       "    }\n",
       "</style>\n",
       "<table border=\"1\" class=\"dataframe\">\n",
       "  <thead>\n",
       "    <tr style=\"text-align: right;\">\n",
       "      <th></th>\n",
       "      <th>Population</th>\n",
       "      <th>PopulationSQ</th>\n",
       "      <th>Robbery_Category</th>\n",
       "      <th>Murder_Category</th>\n",
       "    </tr>\n",
       "  </thead>\n",
       "  <tbody>\n",
       "    <tr>\n",
       "      <th>count</th>\n",
       "      <td>3.480000e+02</td>\n",
       "      <td>3.480000e+02</td>\n",
       "      <td>351.000000</td>\n",
       "      <td>351.000000</td>\n",
       "    </tr>\n",
       "    <tr>\n",
       "      <th>mean</th>\n",
       "      <td>4.003763e+04</td>\n",
       "      <td>2.035547e+11</td>\n",
       "      <td>0.575499</td>\n",
       "      <td>0.145299</td>\n",
       "    </tr>\n",
       "    <tr>\n",
       "      <th>std</th>\n",
       "      <td>4.500374e+05</td>\n",
       "      <td>3.778876e+12</td>\n",
       "      <td>0.494973</td>\n",
       "      <td>0.352905</td>\n",
       "    </tr>\n",
       "    <tr>\n",
       "      <th>min</th>\n",
       "      <td>5.260000e+02</td>\n",
       "      <td>2.766760e+05</td>\n",
       "      <td>0.000000</td>\n",
       "      <td>0.000000</td>\n",
       "    </tr>\n",
       "    <tr>\n",
       "      <th>25%</th>\n",
       "      <td>3.003000e+03</td>\n",
       "      <td>9.018117e+06</td>\n",
       "      <td>0.000000</td>\n",
       "      <td>0.000000</td>\n",
       "    </tr>\n",
       "    <tr>\n",
       "      <th>50%</th>\n",
       "      <td>7.233500e+03</td>\n",
       "      <td>5.232568e+07</td>\n",
       "      <td>1.000000</td>\n",
       "      <td>0.000000</td>\n",
       "    </tr>\n",
       "    <tr>\n",
       "      <th>75%</th>\n",
       "      <td>1.842750e+04</td>\n",
       "      <td>3.397536e+08</td>\n",
       "      <td>1.000000</td>\n",
       "      <td>0.000000</td>\n",
       "    </tr>\n",
       "    <tr>\n",
       "      <th>max</th>\n",
       "      <td>8.396126e+06</td>\n",
       "      <td>7.049493e+13</td>\n",
       "      <td>1.000000</td>\n",
       "      <td>1.000000</td>\n",
       "    </tr>\n",
       "  </tbody>\n",
       "</table>\n",
       "</div>"
      ],
      "text/plain": [
       "         Population  PopulationSQ  Robbery_Category  Murder_Category\n",
       "count  3.480000e+02  3.480000e+02        351.000000       351.000000\n",
       "mean   4.003763e+04  2.035547e+11          0.575499         0.145299\n",
       "std    4.500374e+05  3.778876e+12          0.494973         0.352905\n",
       "min    5.260000e+02  2.766760e+05          0.000000         0.000000\n",
       "25%    3.003000e+03  9.018117e+06          0.000000         0.000000\n",
       "50%    7.233500e+03  5.232568e+07          1.000000         0.000000\n",
       "75%    1.842750e+04  3.397536e+08          1.000000         0.000000\n",
       "max    8.396126e+06  7.049493e+13          1.000000         1.000000"
      ]
     },
     "execution_count": 76,
     "metadata": {},
     "output_type": "execute_result"
    }
   ],
   "source": [
    "Property_Crime.describe()"
   ]
  },
  {
   "cell_type": "code",
   "execution_count": 114,
   "metadata": {},
   "outputs": [
    {
     "data": {
      "text/plain": [
       "City                                        0\n",
       "Population                                  0\n",
       "Violent\\ncrime                              0\n",
       "Murder and\\nnonnegligent\\nmanslaughter      0\n",
       "Rape\\n(revised\\ndefinition)1              348\n",
       "Rape\\n(legacy\\ndefinition)2                 0\n",
       "Robbery                                     0\n",
       "Aggravated\\nassault                         0\n",
       "Property\\ncrime                             0\n",
       "Burglary                                    0\n",
       "Larceny-\\ntheft                             0\n",
       "Motor\\nvehicle\\ntheft                       0\n",
       "Arson3                                    161\n",
       "dtype: int64"
      ]
     },
     "execution_count": 114,
     "metadata": {},
     "output_type": "execute_result"
    }
   ],
   "source": [
    "#Property_Crime['Population'] = raw_crimes['Population']\n",
    "#Property_Crime['Population'] = Property_Crime['Population'].astype(float)\n",
    "#Property_Crime['PopulationSQ'] = Property_Crime['Population'].apply(lambda x: x*x)\n",
    "raw_crimes.isnull().sum()"
   ]
  },
  {
   "cell_type": "code",
   "execution_count": 109,
   "metadata": {},
   "outputs": [],
   "source": [
    "Property_Crime.dropna(subset = ['Population', 'PopulationSQ'], inplace=True)"
   ]
  },
  {
   "cell_type": "code",
   "execution_count": 179,
   "metadata": {
    "collapsed": true
   },
   "outputs": [],
   "source": [
    "raw_crimes.dropna(subset = ['Property\\ncrime',\n",
    "                            'Population',\n",
    "                            'Violent\\ncrime',\n",
    "                            'Robbery',\n",
    "                            'Aggravated\\nassault'], inplace=True)"
   ]
  },
  {
   "cell_type": "code",
   "execution_count": 199,
   "metadata": {
    "collapsed": true
   },
   "outputs": [],
   "source": [
    "regr = linear_model.LinearRegression()"
   ]
  },
  {
   "cell_type": "code",
   "execution_count": 192,
   "metadata": {},
   "outputs": [],
   "source": [
    "Y = raw_crimes['Property\\ncrime'].values.reshape(-1, 1)\n",
    "X = Property_Crime['Population'].values.reshape(-1, 1)\n",
    "min_max_scaler = preprocessing.MinMaxScaler()\n",
    "X_train, X_test, Y_train, Y_test = train_test_split(X, Y, test_size=.35)\n"
   ]
  },
  {
   "cell_type": "code",
   "execution_count": 190,
   "metadata": {},
   "outputs": [],
   "source": [
    "raw_crimes['Property\\ncrime'] = raw_crimes['Property\\ncrime'].astype(float)"
   ]
  },
  {
   "cell_type": "code",
   "execution_count": 197,
   "metadata": {
    "collapsed": true
   },
   "outputs": [],
   "source": [
    "X_train_minmax = min_max_scaler.fit_transform(X_train)\n",
    "X_test_minmax = min_max_scaler.transform(X_test)\n",
    "Y_train_minmax = min_max_scaler.fit_transform(Y_train)\n",
    "Y_test_minmax = min_max_scaler.transform(Y_test)"
   ]
  },
  {
   "cell_type": "markdown",
   "metadata": {},
   "source": [
    "## Next up is the actual regression!"
   ]
  },
  {
   "cell_type": "code",
   "execution_count": 203,
   "metadata": {},
   "outputs": [
    {
     "name": "stdout",
     "output_type": "stream",
     "text": [
      "Coefficients: \n",
      " [[ 0.67780331]]\n",
      "Intercept: \n",
      " [-0.00938326]\n",
      "0.113177244624\n"
     ]
    }
   ],
   "source": [
    "# the actual regression\n",
    "\n",
    "regr.fit(X_train_minmax, Y_train_minmax)\n",
    "\n",
    "\n",
    "print('Coefficients: \\n', regr.coef_)\n",
    "print('Intercept: \\n', regr.intercept_)\n",
    "print(regr.score(X_test_minmax, Y_test_minmax))"
   ]
  },
  {
   "cell_type": "code",
   "execution_count": 122,
   "metadata": {
    "collapsed": true
   },
   "outputs": [],
   "source": [
    "Property_Crime['Robbery'] = raw_crimes['Robbery'].str.replace(',','').astype(float)"
   ]
  },
  {
   "cell_type": "code",
   "execution_count": 123,
   "metadata": {
    "collapsed": true
   },
   "outputs": [],
   "source": [
    "Property_Crime['Violent_Crime'] = raw_crimes['Violent\\ncrime'].str.replace(',','').astype(float)"
   ]
  },
  {
   "cell_type": "markdown",
   "metadata": {},
   "source": [
    "Population alone only seems to account for 11% of the variance in our model. Let's try some different features."
   ]
  },
  {
   "cell_type": "code",
   "execution_count": 204,
   "metadata": {},
   "outputs": [
    {
     "name": "stdout",
     "output_type": "stream",
     "text": [
      "Coefficients: \n",
      " [[ 0.54413717  0.13946844  0.53073963 -0.21450447]]\n",
      "Intercept: \n",
      " [ 0.00049404]\n",
      "0.950128885772\n"
     ]
    }
   ],
   "source": [
    "X3 = Property_Crime[['Population', 'Murder', 'Rape', 'Assault']]\n",
    "X_train3, X_test3, Y_train3, Y_test3 = train_test_split(X3, Y, test_size=.35)\n",
    "\n",
    "X_train_minmax3 = min_max_scaler.fit_transform(X_train3)\n",
    "X_test_minmax3 = min_max_scaler.transform(X_test3)\n",
    "Y_train_minmax3 = min_max_scaler.fit_transform(Y_train3)\n",
    "Y_test_minmax3 = min_max_scaler.transform(Y_test3)\n",
    "\n",
    "regr.fit(X_train_minmax3, Y_train_minmax3)\n",
    "\n",
    "print('Coefficients: \\n', regr.coef_)\n",
    "print('Intercept: \\n', regr.intercept_)\n",
    "print(regr.score(X_test_minmax3, Y_test_minmax3))\n"
   ]
  },
  {
   "cell_type": "markdown",
   "metadata": {},
   "source": [
    "This set of features seems to explain a huge amount of variance in our data. "
   ]
  },
  {
   "cell_type": "code",
   "execution_count": 147,
   "metadata": {},
   "outputs": [],
   "source": [
    "Property_Crime['Murder'] = raw_crimes['Murder and\\nnonnegligent\\nmanslaughter']\n",
    "Property_Crime['Rape'] = raw_crimes['Rape\\n(legacy\\ndefinition)2'].str.replace(',','').astype(float)\n",
    "Property_Crime['Assault'] = raw_crimes['Aggravated\\nassault'].str.replace(',','').astype(float)\n",
    "Property_Crime['Burglary'] = raw_crimes['Burglary'].str.replace(',','').astype(float)\n",
    "Property_Crime['Larceny'] = raw_crimes['Larceny-\\ntheft'].str.replace(',','').astype(float)\n",
    "Property_Crime['Motor_vehicle_theft'] = raw_crimes['Motor\\nvehicle\\ntheft'].str.replace(',','').astype(float)"
   ]
  },
  {
   "cell_type": "markdown",
   "metadata": {},
   "source": [
    "Add new columns for new features, to test in the model. And maybe split it up into different sized cities and see if that affects it."
   ]
  },
  {
   "cell_type": "code",
   "execution_count": 209,
   "metadata": {},
   "outputs": [],
   "source": [
    "Property_Crime['Small_City'] = np.where((Property_Crime['Population'] < 10000), 0, 1)\n",
    "#Property_Crime['Medium_City'] = np.where(((Property_Crime['Population'] >= 10000) & (Property_Crime['Population'] < 1000000)), 0, 1)\n",
    "Property_Crime['Big_City'] = np.where((Property_Crime['Population'] >= 1000000), 0, 1)"
   ]
  },
  {
   "cell_type": "code",
   "execution_count": 211,
   "metadata": {},
   "outputs": [
    {
     "name": "stdout",
     "output_type": "stream",
     "text": [
      "Coefficients: \n",
      " [[ 0.2236798   0.27318769  0.42476143  0.10642538]]\n",
      "Intercept: \n",
      " [ 0.00369327]\n",
      "0.926189250129\n"
     ]
    }
   ],
   "source": [
    "X4 = Property_Crime[['Population', 'Small_City', 'Murder', 'Rape']]\n",
    "X_train4, X_test4, Y_train4, Y_test4 = train_test_split(X3, Y, test_size=.35)\n",
    "\n",
    "X_train_minmax4 = min_max_scaler.fit_transform(X_train4)\n",
    "X_test_minmax4 = min_max_scaler.transform(X_test4)\n",
    "Y_train_minmax4 = min_max_scaler.fit_transform(Y_train4)\n",
    "Y_test_minmax4 = min_max_scaler.transform(Y_test4)\n",
    "\n",
    "regr.fit(X_train_minmax4, Y_train_minmax4)\n",
    "\n",
    "print('Coefficients: \\n', regr.coef_)\n",
    "print('Intercept: \\n', regr.intercept_)\n",
    "print(regr.score(X_test_minmax4, Y_test_minmax4))\n"
   ]
  },
  {
   "cell_type": "code",
   "execution_count": null,
   "metadata": {
    "collapsed": true
   },
   "outputs": [],
   "source": []
  },
  {
   "cell_type": "markdown",
   "metadata": {},
   "source": [
    "This model seems to explain a good amount of variance as well. That's a satisfactory R-squared value. Time to check our assumptions."
   ]
  },
  {
   "cell_type": "markdown",
   "metadata": {},
   "source": [
    "## Linear Relationship"
   ]
  },
  {
   "cell_type": "code",
   "execution_count": 220,
   "metadata": {
    "scrolled": true
   },
   "outputs": [
    {
     "data": {
      "image/png": "[encoded data removed]",
      "text/plain": [
       "<matplotlib.figure.Figure at 0x11e14fd68>"
      ]
     },
     "metadata": {},
     "output_type": "display_data"
    },
    {
     "data": {
      "image/png": "[encoded data removed]",
      "text/plain": [
       "<matplotlib.figure.Figure at 0x11d7684e0>"
      ]
     },
     "metadata": {},
     "output_type": "display_data"
    },
    {
     "data": {
      "image/png": "[encoded data removed]",
      "text/plain": [
       "<matplotlib.figure.Figure at 0x11e2aa860>"
      ]
     },
     "metadata": {},
     "output_type": "display_data"
    }
   ],
   "source": [
    "plt.scatter(Y, X)\n",
    "plt.title('Raw values')\n",
    "plt.show()\n",
    "\n",
    "plt.scatter(Y, Property_Crime['Murder'])\n",
    "plt.title('Murder by Population')\n",
    "plt.show()\n",
    "\n",
    "plt.scatter(Y, Property_Crime['Rape'])\n",
    "plt.title('Rape by Population')\n",
    "plt.show()"
   ]
  },
  {
   "cell_type": "markdown",
   "metadata": {},
   "source": [
    "## Next lets see what the residuals look like"
   ]
  },
  {
   "cell_type": "code",
   "execution_count": 227,
   "metadata": {},
   "outputs": [
    {
     "data": {
      "image/png": "[encoded data removed]",
      "text/plain": [
       "<matplotlib.figure.Figure at 0x11e70add8>"
      ]
     },
     "metadata": {},
     "output_type": "display_data"
    }
   ],
   "source": [
    "sns.residplot(x='Population', y=raw_crimes['Property\\ncrime'], data=Property_Crime)\n",
    "plt.title('Residual Plot')\n",
    "plt.show()"
   ]
  },
  {
   "cell_type": "code",
   "execution_count": null,
   "metadata": {},
   "outputs": [],
   "source": []
  },
  {
   "cell_type": "code",
   "execution_count": null,
   "metadata": {
    "collapsed": true
   },
   "outputs": [],
   "source": []
  }
 ],
 "metadata": {
  "kernelspec": {
   "display_name": "Python 3",
   "language": "python",
   "name": "python3"
  },
  "language_info": {
   "codemirror_mode": {
    "name": "ipython",
    "version": 3
   },
   "file_extension": ".py",
   "mimetype": "text/x-python",
   "name": "python",
   "nbconvert_exporter": "python",
   "pygments_lexer": "ipython3",
   "version": "3.6.1"
  }
 },
 "nbformat": 4,
 "nbformat_minor": 2
}
