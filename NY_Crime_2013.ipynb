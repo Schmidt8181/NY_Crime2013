{
 "cells": [
  {
   "cell_type": "code",
   "execution_count": 82,
   "metadata": {
    "collapsed": true
   },
   "outputs": [],
   "source": [
    "%matplotlib inline\n",
    "import numpy as np\n",
    "import pandas as pd\n",
    "import scipy\n",
    "import sklearn\n",
    "from sklearn import linear_model\n",
    "from sklearn.model_selection import train_test_split\n",
    "import matplotlib.pyplot as plt\n",
    "import seaborn as sns"
   ]
  },
  {
   "cell_type": "code",
   "execution_count": 77,
   "metadata": {
    "scrolled": false
   },
   "outputs": [
    {
     "data": {
      "text/html": [
       "<div>\n",
       "<style>\n",
       "    .dataframe thead tr:only-child th {\n",
       "        text-align: right;\n",
       "    }\n",
       "\n",
       "    .dataframe thead th {\n",
       "        text-align: left;\n",
       "    }\n",
       "\n",
       "    .dataframe tbody tr th {\n",
       "        vertical-align: top;\n",
       "    }\n",
       "</style>\n",
       "<table border=\"1\" class=\"dataframe\">\n",
       "  <thead>\n",
       "    <tr style=\"text-align: right;\">\n",
       "      <th></th>\n",
       "      <th>City</th>\n",
       "      <th>Population</th>\n",
       "      <th>Violent\n",
       "crime</th>\n",
       "      <th>Murder and\n",
       "nonnegligent\n",
       "manslaughter</th>\n",
       "      <th>Rape\n",
       "(revised\n",
       "definition)1</th>\n",
       "      <th>Rape\n",
       "(legacy\n",
       "definition)2</th>\n",
       "      <th>Robbery</th>\n",
       "      <th>Aggravated\n",
       "assault</th>\n",
       "      <th>Property\n",
       "crime</th>\n",
       "      <th>Burglary</th>\n",
       "      <th>Larceny-\n",
       "theft</th>\n",
       "      <th>Motor\n",
       "vehicle\n",
       "theft</th>\n",
       "      <th>Arson3</th>\n",
       "    </tr>\n",
       "  </thead>\n",
       "  <tbody>\n",
       "    <tr>\n",
       "      <th>0</th>\n",
       "      <td>Adams Village</td>\n",
       "      <td>1,861</td>\n",
       "      <td>0</td>\n",
       "      <td>0.0</td>\n",
       "      <td>NaN</td>\n",
       "      <td>0</td>\n",
       "      <td>0</td>\n",
       "      <td>0</td>\n",
       "      <td>12</td>\n",
       "      <td>2</td>\n",
       "      <td>10</td>\n",
       "      <td>0</td>\n",
       "      <td>0.0</td>\n",
       "    </tr>\n",
       "    <tr>\n",
       "      <th>1</th>\n",
       "      <td>Addison Town and Village</td>\n",
       "      <td>2,577</td>\n",
       "      <td>3</td>\n",
       "      <td>0.0</td>\n",
       "      <td>NaN</td>\n",
       "      <td>0</td>\n",
       "      <td>0</td>\n",
       "      <td>3</td>\n",
       "      <td>24</td>\n",
       "      <td>3</td>\n",
       "      <td>20</td>\n",
       "      <td>1</td>\n",
       "      <td>0.0</td>\n",
       "    </tr>\n",
       "    <tr>\n",
       "      <th>2</th>\n",
       "      <td>Akron Village</td>\n",
       "      <td>2,846</td>\n",
       "      <td>3</td>\n",
       "      <td>0.0</td>\n",
       "      <td>NaN</td>\n",
       "      <td>0</td>\n",
       "      <td>0</td>\n",
       "      <td>3</td>\n",
       "      <td>16</td>\n",
       "      <td>1</td>\n",
       "      <td>15</td>\n",
       "      <td>0</td>\n",
       "      <td>0.0</td>\n",
       "    </tr>\n",
       "    <tr>\n",
       "      <th>3</th>\n",
       "      <td>Albany</td>\n",
       "      <td>97,956</td>\n",
       "      <td>791</td>\n",
       "      <td>8.0</td>\n",
       "      <td>NaN</td>\n",
       "      <td>30</td>\n",
       "      <td>227</td>\n",
       "      <td>526</td>\n",
       "      <td>4,090</td>\n",
       "      <td>705</td>\n",
       "      <td>3,243</td>\n",
       "      <td>142</td>\n",
       "      <td>NaN</td>\n",
       "    </tr>\n",
       "    <tr>\n",
       "      <th>4</th>\n",
       "      <td>Albion Village</td>\n",
       "      <td>6,388</td>\n",
       "      <td>23</td>\n",
       "      <td>0.0</td>\n",
       "      <td>NaN</td>\n",
       "      <td>3</td>\n",
       "      <td>4</td>\n",
       "      <td>16</td>\n",
       "      <td>223</td>\n",
       "      <td>53</td>\n",
       "      <td>165</td>\n",
       "      <td>5</td>\n",
       "      <td>NaN</td>\n",
       "    </tr>\n",
       "    <tr>\n",
       "      <th>5</th>\n",
       "      <td>Alfred Village</td>\n",
       "      <td>4,089</td>\n",
       "      <td>5</td>\n",
       "      <td>0.0</td>\n",
       "      <td>NaN</td>\n",
       "      <td>0</td>\n",
       "      <td>3</td>\n",
       "      <td>2</td>\n",
       "      <td>46</td>\n",
       "      <td>10</td>\n",
       "      <td>36</td>\n",
       "      <td>0</td>\n",
       "      <td>NaN</td>\n",
       "    </tr>\n",
       "    <tr>\n",
       "      <th>6</th>\n",
       "      <td>Allegany Village</td>\n",
       "      <td>1,781</td>\n",
       "      <td>3</td>\n",
       "      <td>0.0</td>\n",
       "      <td>NaN</td>\n",
       "      <td>0</td>\n",
       "      <td>0</td>\n",
       "      <td>3</td>\n",
       "      <td>10</td>\n",
       "      <td>0</td>\n",
       "      <td>10</td>\n",
       "      <td>0</td>\n",
       "      <td>0.0</td>\n",
       "    </tr>\n",
       "    <tr>\n",
       "      <th>7</th>\n",
       "      <td>Amherst Town</td>\n",
       "      <td>118,296</td>\n",
       "      <td>107</td>\n",
       "      <td>1.0</td>\n",
       "      <td>NaN</td>\n",
       "      <td>7</td>\n",
       "      <td>31</td>\n",
       "      <td>68</td>\n",
       "      <td>2,118</td>\n",
       "      <td>204</td>\n",
       "      <td>1,882</td>\n",
       "      <td>32</td>\n",
       "      <td>3.0</td>\n",
       "    </tr>\n",
       "    <tr>\n",
       "      <th>8</th>\n",
       "      <td>Amityville Village</td>\n",
       "      <td>9,519</td>\n",
       "      <td>9</td>\n",
       "      <td>0.0</td>\n",
       "      <td>NaN</td>\n",
       "      <td>2</td>\n",
       "      <td>4</td>\n",
       "      <td>3</td>\n",
       "      <td>210</td>\n",
       "      <td>16</td>\n",
       "      <td>188</td>\n",
       "      <td>6</td>\n",
       "      <td>1.0</td>\n",
       "    </tr>\n",
       "    <tr>\n",
       "      <th>9</th>\n",
       "      <td>Amsterdam</td>\n",
       "      <td>18,182</td>\n",
       "      <td>30</td>\n",
       "      <td>0.0</td>\n",
       "      <td>NaN</td>\n",
       "      <td>0</td>\n",
       "      <td>12</td>\n",
       "      <td>18</td>\n",
       "      <td>405</td>\n",
       "      <td>99</td>\n",
       "      <td>291</td>\n",
       "      <td>15</td>\n",
       "      <td>0.0</td>\n",
       "    </tr>\n",
       "    <tr>\n",
       "      <th>10</th>\n",
       "      <td>Arcade Village</td>\n",
       "      <td>2,053</td>\n",
       "      <td>0</td>\n",
       "      <td>0.0</td>\n",
       "      <td>NaN</td>\n",
       "      <td>0</td>\n",
       "      <td>0</td>\n",
       "      <td>0</td>\n",
       "      <td>39</td>\n",
       "      <td>3</td>\n",
       "      <td>35</td>\n",
       "      <td>1</td>\n",
       "      <td>0.0</td>\n",
       "    </tr>\n",
       "    <tr>\n",
       "      <th>11</th>\n",
       "      <td>Ardsley Village</td>\n",
       "      <td>4,523</td>\n",
       "      <td>5</td>\n",
       "      <td>0.0</td>\n",
       "      <td>NaN</td>\n",
       "      <td>0</td>\n",
       "      <td>3</td>\n",
       "      <td>2</td>\n",
       "      <td>33</td>\n",
       "      <td>4</td>\n",
       "      <td>28</td>\n",
       "      <td>1</td>\n",
       "      <td>0.0</td>\n",
       "    </tr>\n",
       "  </tbody>\n",
       "</table>\n",
       "</div>"
      ],
      "text/plain": [
       "                        City Population Violent\\ncrime  \\\n",
       "0              Adams Village      1,861              0   \n",
       "1   Addison Town and Village      2,577              3   \n",
       "2              Akron Village      2,846              3   \n",
       "3                     Albany     97,956            791   \n",
       "4             Albion Village      6,388             23   \n",
       "5             Alfred Village      4,089              5   \n",
       "6           Allegany Village      1,781              3   \n",
       "7               Amherst Town    118,296            107   \n",
       "8         Amityville Village      9,519              9   \n",
       "9                  Amsterdam     18,182             30   \n",
       "10            Arcade Village      2,053              0   \n",
       "11           Ardsley Village      4,523              5   \n",
       "\n",
       "    Murder and\\nnonnegligent\\nmanslaughter  Rape\\n(revised\\ndefinition)1  \\\n",
       "0                                      0.0                           NaN   \n",
       "1                                      0.0                           NaN   \n",
       "2                                      0.0                           NaN   \n",
       "3                                      8.0                           NaN   \n",
       "4                                      0.0                           NaN   \n",
       "5                                      0.0                           NaN   \n",
       "6                                      0.0                           NaN   \n",
       "7                                      1.0                           NaN   \n",
       "8                                      0.0                           NaN   \n",
       "9                                      0.0                           NaN   \n",
       "10                                     0.0                           NaN   \n",
       "11                                     0.0                           NaN   \n",
       "\n",
       "   Rape\\n(legacy\\ndefinition)2 Robbery Aggravated\\nassault Property\\ncrime  \\\n",
       "0                            0       0                   0              12   \n",
       "1                            0       0                   3              24   \n",
       "2                            0       0                   3              16   \n",
       "3                           30     227                 526           4,090   \n",
       "4                            3       4                  16             223   \n",
       "5                            0       3                   2              46   \n",
       "6                            0       0                   3              10   \n",
       "7                            7      31                  68           2,118   \n",
       "8                            2       4                   3             210   \n",
       "9                            0      12                  18             405   \n",
       "10                           0       0                   0              39   \n",
       "11                           0       3                   2              33   \n",
       "\n",
       "   Burglary Larceny-\\ntheft Motor\\nvehicle\\ntheft  Arson3  \n",
       "0         2              10                     0     0.0  \n",
       "1         3              20                     1     0.0  \n",
       "2         1              15                     0     0.0  \n",
       "3       705           3,243                   142     NaN  \n",
       "4        53             165                     5     NaN  \n",
       "5        10              36                     0     NaN  \n",
       "6         0              10                     0     0.0  \n",
       "7       204           1,882                    32     3.0  \n",
       "8        16             188                     6     1.0  \n",
       "9        99             291                    15     0.0  \n",
       "10        3              35                     1     0.0  \n",
       "11        4              28                     1     0.0  "
      ]
     },
     "execution_count": 77,
     "metadata": {},
     "output_type": "execute_result"
    }
   ],
   "source": [
    "data = ('/Users/Beba/Documents/JupyterNotebooks/NY2013Crimes.csv')\n",
    "raw_crimes = pd.read_csv(data, skiprows=4)\n",
    "raw_crimes.head(12)"
   ]
  },
  {
   "cell_type": "code",
   "execution_count": 5,
   "metadata": {
    "collapsed": true
   },
   "outputs": [],
   "source": [
    "Property_Crime = pd.DataFrame()"
   ]
  },
  {
   "cell_type": "code",
   "execution_count": 6,
   "metadata": {
    "collapsed": true
   },
   "outputs": [],
   "source": [
    "Property_Crime['City'] = raw_crimes['City']\n",
    "Property_Crime['Population'] = raw_crimes['Population']\n",
    "Property_Crime['Robbery'] = raw_crimes['Robbery']\n",
    "Property_Crime['Murder'] = raw_crimes['Murder and\\nnonnegligent\\nmanslaughter']"
   ]
  },
  {
   "cell_type": "code",
   "execution_count": 7,
   "metadata": {
    "collapsed": true
   },
   "outputs": [],
   "source": [
    "Property_Crime['Population'] = Property_Crime['Population'].str.replace(',','').astype(float)"
   ]
  },
  {
   "cell_type": "code",
   "execution_count": 8,
   "metadata": {
    "collapsed": true
   },
   "outputs": [],
   "source": [
    "Property_Crime['PopulationSQ'] = Property_Crime['Population'].apply(lambda x: x*x)"
   ]
  },
  {
   "cell_type": "code",
   "execution_count": 13,
   "metadata": {},
   "outputs": [
    {
     "data": {
      "text/html": [
       "<div>\n",
       "<style>\n",
       "    .dataframe thead tr:only-child th {\n",
       "        text-align: right;\n",
       "    }\n",
       "\n",
       "    .dataframe thead th {\n",
       "        text-align: left;\n",
       "    }\n",
       "\n",
       "    .dataframe tbody tr th {\n",
       "        vertical-align: top;\n",
       "    }\n",
       "</style>\n",
       "<table border=\"1\" class=\"dataframe\">\n",
       "  <thead>\n",
       "    <tr style=\"text-align: right;\">\n",
       "      <th></th>\n",
       "      <th>City</th>\n",
       "      <th>Population</th>\n",
       "      <th>Robbery</th>\n",
       "      <th>Murder</th>\n",
       "      <th>PopulationSQ</th>\n",
       "    </tr>\n",
       "  </thead>\n",
       "  <tbody>\n",
       "    <tr>\n",
       "      <th>0</th>\n",
       "      <td>Adams Village</td>\n",
       "      <td>1861.0</td>\n",
       "      <td>0</td>\n",
       "      <td>0.0</td>\n",
       "      <td>3.463321e+06</td>\n",
       "    </tr>\n",
       "    <tr>\n",
       "      <th>1</th>\n",
       "      <td>Addison Town and Village</td>\n",
       "      <td>2577.0</td>\n",
       "      <td>0</td>\n",
       "      <td>0.0</td>\n",
       "      <td>6.640929e+06</td>\n",
       "    </tr>\n",
       "    <tr>\n",
       "      <th>2</th>\n",
       "      <td>Akron Village</td>\n",
       "      <td>2846.0</td>\n",
       "      <td>0</td>\n",
       "      <td>0.0</td>\n",
       "      <td>8.099716e+06</td>\n",
       "    </tr>\n",
       "    <tr>\n",
       "      <th>3</th>\n",
       "      <td>Albany</td>\n",
       "      <td>97956.0</td>\n",
       "      <td>227</td>\n",
       "      <td>8.0</td>\n",
       "      <td>9.595378e+09</td>\n",
       "    </tr>\n",
       "    <tr>\n",
       "      <th>4</th>\n",
       "      <td>Albion Village</td>\n",
       "      <td>6388.0</td>\n",
       "      <td>4</td>\n",
       "      <td>0.0</td>\n",
       "      <td>4.080654e+07</td>\n",
       "    </tr>\n",
       "  </tbody>\n",
       "</table>\n",
       "</div>"
      ],
      "text/plain": [
       "                       City  Population Robbery  Murder  PopulationSQ\n",
       "0             Adams Village      1861.0       0     0.0  3.463321e+06\n",
       "1  Addison Town and Village      2577.0       0     0.0  6.640929e+06\n",
       "2             Akron Village      2846.0       0     0.0  8.099716e+06\n",
       "3                    Albany     97956.0     227     8.0  9.595378e+09\n",
       "4            Albion Village      6388.0       4     0.0  4.080654e+07"
      ]
     },
     "execution_count": 13,
     "metadata": {},
     "output_type": "execute_result"
    }
   ],
   "source": [
    "Property_Crime.head()"
   ]
  },
  {
   "cell_type": "code",
   "execution_count": 58,
   "metadata": {},
   "outputs": [],
   "source": [
    "Property_Crime['Robbery'] = Property_Crime['Robbery'].astype(str)"
   ]
  },
  {
   "cell_type": "code",
   "execution_count": 73,
   "metadata": {},
   "outputs": [
    {
     "data": {
      "text/html": [
       "<div>\n",
       "<style>\n",
       "    .dataframe thead tr:only-child th {\n",
       "        text-align: right;\n",
       "    }\n",
       "\n",
       "    .dataframe thead th {\n",
       "        text-align: left;\n",
       "    }\n",
       "\n",
       "    .dataframe tbody tr th {\n",
       "        vertical-align: top;\n",
       "    }\n",
       "</style>\n",
       "<table border=\"1\" class=\"dataframe\">\n",
       "  <thead>\n",
       "    <tr style=\"text-align: right;\">\n",
       "      <th></th>\n",
       "      <th>City</th>\n",
       "      <th>Population</th>\n",
       "      <th>PopulationSQ</th>\n",
       "      <th>Robbery_Category</th>\n",
       "      <th>Murder_Category</th>\n",
       "    </tr>\n",
       "  </thead>\n",
       "  <tbody>\n",
       "    <tr>\n",
       "      <th>0</th>\n",
       "      <td>Adams Village</td>\n",
       "      <td>1861.0</td>\n",
       "      <td>3.463321e+06</td>\n",
       "      <td>0</td>\n",
       "      <td>0</td>\n",
       "    </tr>\n",
       "    <tr>\n",
       "      <th>1</th>\n",
       "      <td>Addison Town and Village</td>\n",
       "      <td>2577.0</td>\n",
       "      <td>6.640929e+06</td>\n",
       "      <td>0</td>\n",
       "      <td>0</td>\n",
       "    </tr>\n",
       "    <tr>\n",
       "      <th>2</th>\n",
       "      <td>Akron Village</td>\n",
       "      <td>2846.0</td>\n",
       "      <td>8.099716e+06</td>\n",
       "      <td>0</td>\n",
       "      <td>0</td>\n",
       "    </tr>\n",
       "    <tr>\n",
       "      <th>3</th>\n",
       "      <td>Albany</td>\n",
       "      <td>97956.0</td>\n",
       "      <td>9.595378e+09</td>\n",
       "      <td>1</td>\n",
       "      <td>1</td>\n",
       "    </tr>\n",
       "    <tr>\n",
       "      <th>4</th>\n",
       "      <td>Albion Village</td>\n",
       "      <td>6388.0</td>\n",
       "      <td>4.080654e+07</td>\n",
       "      <td>1</td>\n",
       "      <td>0</td>\n",
       "    </tr>\n",
       "  </tbody>\n",
       "</table>\n",
       "</div>"
      ],
      "text/plain": [
       "                       City  Population  PopulationSQ  Robbery_Category  \\\n",
       "0             Adams Village      1861.0  3.463321e+06                 0   \n",
       "1  Addison Town and Village      2577.0  6.640929e+06                 0   \n",
       "2             Akron Village      2846.0  8.099716e+06                 0   \n",
       "3                    Albany     97956.0  9.595378e+09                 1   \n",
       "4            Albion Village      6388.0  4.080654e+07                 1   \n",
       "\n",
       "   Murder_Category  \n",
       "0                0  \n",
       "1                0  \n",
       "2                0  \n",
       "3                1  \n",
       "4                0  "
      ]
     },
     "execution_count": 73,
     "metadata": {},
     "output_type": "execute_result"
    }
   ],
   "source": [
    "Property_Crime.head()"
   ]
  },
  {
   "cell_type": "code",
   "execution_count": 65,
   "metadata": {},
   "outputs": [],
   "source": [
    "Property_Crime['Robbery_Category'] = np.where(Property_Crime['Robbery'].str.contains(\"0.0\"), 0, 1)"
   ]
  },
  {
   "cell_type": "code",
   "execution_count": 68,
   "metadata": {},
   "outputs": [],
   "source": [
    "Property_Crime['Murder'] = Property_Crime['Murder'].astype(str)\n",
    "Property_Crime['Murder_Category'] = np.where(Property_Crime['Murder'].str.contains(\"0.0\"), 0, 1)"
   ]
  },
  {
   "cell_type": "code",
   "execution_count": 72,
   "metadata": {},
   "outputs": [],
   "source": [
    "Property_Crime.drop(['Robbery'], axis=1, inplace=True)\n",
    "Property_Crime.drop(['Murder'], axis=1, inplace=True)"
   ]
  },
  {
   "cell_type": "code",
   "execution_count": 76,
   "metadata": {},
   "outputs": [
    {
     "data": {
      "text/html": [
       "<div>\n",
       "<style>\n",
       "    .dataframe thead tr:only-child th {\n",
       "        text-align: right;\n",
       "    }\n",
       "\n",
       "    .dataframe thead th {\n",
       "        text-align: left;\n",
       "    }\n",
       "\n",
       "    .dataframe tbody tr th {\n",
       "        vertical-align: top;\n",
       "    }\n",
       "</style>\n",
       "<table border=\"1\" class=\"dataframe\">\n",
       "  <thead>\n",
       "    <tr style=\"text-align: right;\">\n",
       "      <th></th>\n",
       "      <th>Population</th>\n",
       "      <th>PopulationSQ</th>\n",
       "      <th>Robbery_Category</th>\n",
       "      <th>Murder_Category</th>\n",
       "    </tr>\n",
       "  </thead>\n",
       "  <tbody>\n",
       "    <tr>\n",
       "      <th>count</th>\n",
       "      <td>3.480000e+02</td>\n",
       "      <td>3.480000e+02</td>\n",
       "      <td>351.000000</td>\n",
       "      <td>351.000000</td>\n",
       "    </tr>\n",
       "    <tr>\n",
       "      <th>mean</th>\n",
       "      <td>4.003763e+04</td>\n",
       "      <td>2.035547e+11</td>\n",
       "      <td>0.575499</td>\n",
       "      <td>0.145299</td>\n",
       "    </tr>\n",
       "    <tr>\n",
       "      <th>std</th>\n",
       "      <td>4.500374e+05</td>\n",
       "      <td>3.778876e+12</td>\n",
       "      <td>0.494973</td>\n",
       "      <td>0.352905</td>\n",
       "    </tr>\n",
       "    <tr>\n",
       "      <th>min</th>\n",
       "      <td>5.260000e+02</td>\n",
       "      <td>2.766760e+05</td>\n",
       "      <td>0.000000</td>\n",
       "      <td>0.000000</td>\n",
       "    </tr>\n",
       "    <tr>\n",
       "      <th>25%</th>\n",
       "      <td>3.003000e+03</td>\n",
       "      <td>9.018117e+06</td>\n",
       "      <td>0.000000</td>\n",
       "      <td>0.000000</td>\n",
       "    </tr>\n",
       "    <tr>\n",
       "      <th>50%</th>\n",
       "      <td>7.233500e+03</td>\n",
       "      <td>5.232568e+07</td>\n",
       "      <td>1.000000</td>\n",
       "      <td>0.000000</td>\n",
       "    </tr>\n",
       "    <tr>\n",
       "      <th>75%</th>\n",
       "      <td>1.842750e+04</td>\n",
       "      <td>3.397536e+08</td>\n",
       "      <td>1.000000</td>\n",
       "      <td>0.000000</td>\n",
       "    </tr>\n",
       "    <tr>\n",
       "      <th>max</th>\n",
       "      <td>8.396126e+06</td>\n",
       "      <td>7.049493e+13</td>\n",
       "      <td>1.000000</td>\n",
       "      <td>1.000000</td>\n",
       "    </tr>\n",
       "  </tbody>\n",
       "</table>\n",
       "</div>"
      ],
      "text/plain": [
       "         Population  PopulationSQ  Robbery_Category  Murder_Category\n",
       "count  3.480000e+02  3.480000e+02        351.000000       351.000000\n",
       "mean   4.003763e+04  2.035547e+11          0.575499         0.145299\n",
       "std    4.500374e+05  3.778876e+12          0.494973         0.352905\n",
       "min    5.260000e+02  2.766760e+05          0.000000         0.000000\n",
       "25%    3.003000e+03  9.018117e+06          0.000000         0.000000\n",
       "50%    7.233500e+03  5.232568e+07          1.000000         0.000000\n",
       "75%    1.842750e+04  3.397536e+08          1.000000         0.000000\n",
       "max    8.396126e+06  7.049493e+13          1.000000         1.000000"
      ]
     },
     "execution_count": 76,
     "metadata": {},
     "output_type": "execute_result"
    }
   ],
   "source": [
    "Property_Crime.describe()"
   ]
  },
  {
   "cell_type": "code",
   "execution_count": 105,
   "metadata": {},
   "outputs": [
    {
     "data": {
      "text/html": [
       "<div>\n",
       "<style>\n",
       "    .dataframe thead tr:only-child th {\n",
       "        text-align: right;\n",
       "    }\n",
       "\n",
       "    .dataframe thead th {\n",
       "        text-align: left;\n",
       "    }\n",
       "\n",
       "    .dataframe tbody tr th {\n",
       "        vertical-align: top;\n",
       "    }\n",
       "</style>\n",
       "<table border=\"1\" class=\"dataframe\">\n",
       "  <thead>\n",
       "    <tr style=\"text-align: right;\">\n",
       "      <th></th>\n",
       "      <th>City</th>\n",
       "      <th>Population</th>\n",
       "      <th>PopulationSQ</th>\n",
       "      <th>Robbery_Category</th>\n",
       "      <th>Murder_Category</th>\n",
       "    </tr>\n",
       "  </thead>\n",
       "  <tbody>\n",
       "    <tr>\n",
       "      <th>0</th>\n",
       "      <td>Adams Village</td>\n",
       "      <td>1861.0</td>\n",
       "      <td>3.463321e+06</td>\n",
       "      <td>0</td>\n",
       "      <td>0</td>\n",
       "    </tr>\n",
       "    <tr>\n",
       "      <th>1</th>\n",
       "      <td>Addison Town and Village</td>\n",
       "      <td>2577.0</td>\n",
       "      <td>6.640929e+06</td>\n",
       "      <td>0</td>\n",
       "      <td>0</td>\n",
       "    </tr>\n",
       "    <tr>\n",
       "      <th>2</th>\n",
       "      <td>Akron Village</td>\n",
       "      <td>2846.0</td>\n",
       "      <td>8.099716e+06</td>\n",
       "      <td>0</td>\n",
       "      <td>0</td>\n",
       "    </tr>\n",
       "    <tr>\n",
       "      <th>3</th>\n",
       "      <td>Albany</td>\n",
       "      <td>97956.0</td>\n",
       "      <td>9.595378e+09</td>\n",
       "      <td>1</td>\n",
       "      <td>1</td>\n",
       "    </tr>\n",
       "    <tr>\n",
       "      <th>4</th>\n",
       "      <td>Albion Village</td>\n",
       "      <td>6388.0</td>\n",
       "      <td>4.080654e+07</td>\n",
       "      <td>1</td>\n",
       "      <td>0</td>\n",
       "    </tr>\n",
       "  </tbody>\n",
       "</table>\n",
       "</div>"
      ],
      "text/plain": [
       "                       City  Population  PopulationSQ  Robbery_Category  \\\n",
       "0             Adams Village      1861.0  3.463321e+06                 0   \n",
       "1  Addison Town and Village      2577.0  6.640929e+06                 0   \n",
       "2             Akron Village      2846.0  8.099716e+06                 0   \n",
       "3                    Albany     97956.0  9.595378e+09                 1   \n",
       "4            Albion Village      6388.0  4.080654e+07                 1   \n",
       "\n",
       "   Murder_Category  \n",
       "0                0  \n",
       "1                0  \n",
       "2                0  \n",
       "3                1  \n",
       "4                0  "
      ]
     },
     "execution_count": 105,
     "metadata": {},
     "output_type": "execute_result"
    }
   ],
   "source": [
    "Property_Crime.head()"
   ]
  },
  {
   "cell_type": "code",
   "execution_count": 114,
   "metadata": {},
   "outputs": [
    {
     "data": {
      "text/plain": [
       "City                                        0\n",
       "Population                                  0\n",
       "Violent\\ncrime                              0\n",
       "Murder and\\nnonnegligent\\nmanslaughter      0\n",
       "Rape\\n(revised\\ndefinition)1              348\n",
       "Rape\\n(legacy\\ndefinition)2                 0\n",
       "Robbery                                     0\n",
       "Aggravated\\nassault                         0\n",
       "Property\\ncrime                             0\n",
       "Burglary                                    0\n",
       "Larceny-\\ntheft                             0\n",
       "Motor\\nvehicle\\ntheft                       0\n",
       "Arson3                                    161\n",
       "dtype: int64"
      ]
     },
     "execution_count": 114,
     "metadata": {},
     "output_type": "execute_result"
    }
   ],
   "source": [
    "#Property_Crime['Population'] = raw_crimes['Population']\n",
    "#Property_Crime['Population'] = Property_Crime['Population'].astype(float)\n",
    "#Property_Crime['PopulationSQ'] = Property_Crime['Population'].apply(lambda x: x*x)\n",
    "raw_crimes.isnull().sum()"
   ]
  },
  {
   "cell_type": "code",
   "execution_count": 109,
   "metadata": {},
   "outputs": [],
   "source": [
    "Property_Crime.dropna(subset = ['Population', 'PopulationSQ'], inplace=True)"
   ]
  },
  {
   "cell_type": "code",
   "execution_count": 113,
   "metadata": {
    "collapsed": true
   },
   "outputs": [],
   "source": [
    "raw_crimes.dropna(subset = ['Property\\ncrime',\n",
    "                            'Violent\\ncrime',\n",
    "                            'Robbery',\n",
    "                            'Aggravated\\nassault'], inplace=True)"
   ]
  },
  {
   "cell_type": "markdown",
   "metadata": {},
   "source": [
    "^ Should have done this cleaning earlier. Dropping NA values."
   ]
  },
  {
   "cell_type": "code",
   "execution_count": 132,
   "metadata": {},
   "outputs": [
    {
     "name": "stdout",
     "output_type": "stream",
     "text": [
      "Coefficients: \n",
      " [[ 0.01692924]]\n",
      "Intercept: \n",
      " [ 104.60311546]\n",
      "0.996070588588\n"
     ]
    }
   ],
   "source": [
    "# the actual regression\n",
    "\n",
    "regr = linear_model.LinearRegression()\n",
    "\n",
    "Y = raw_crimes['Property\\ncrime'].values.reshape(-1, 1)\n",
    "X = Property_Crime['Population'].values.reshape(-1, 1)\n",
    "X_train, X_test, Y_train, Y_test = train_test_split(X, Y, test_size=.35)\n",
    "regr.fit(X_train, Y_train)\n",
    "\n",
    "print('Coefficients: \\n', regr.coef_)\n",
    "print('Intercept: \\n', regr.intercept_)\n",
    "print(regr.score(X_train, Y_train))"
   ]
  },
  {
   "cell_type": "markdown",
   "metadata": {},
   "source": [
    "I ran the last cell too many times and it over fit my data, giving me an R-squared score of .99 instead of the .77 it was when I ran it again after adding the score print out. "
   ]
  },
  {
   "cell_type": "code",
   "execution_count": 122,
   "metadata": {
    "collapsed": true
   },
   "outputs": [],
   "source": [
    "Property_Crime['Robbery'] = raw_crimes['Robbery'].str.replace(',','').astype(float)"
   ]
  },
  {
   "cell_type": "code",
   "execution_count": 123,
   "metadata": {
    "collapsed": true
   },
   "outputs": [],
   "source": [
    "Property_Crime['Violent_Crime'] = raw_crimes['Violent\\ncrime'].str.replace(',','').astype(float)"
   ]
  },
  {
   "cell_type": "code",
   "execution_count": 134,
   "metadata": {},
   "outputs": [
    {
     "name": "stdout",
     "output_type": "stream",
     "text": [
      "Coefficients: \n",
      " [[ -3.97134712e-03  -1.24911761e+00   1.25560471e+01]]\n",
      "Intercept: \n",
      " [ 279.08209195]\n",
      "0.997792949121\n"
     ]
    }
   ],
   "source": [
    "Y = raw_crimes['Property\\ncrime'].values.reshape(-1, 1)\n",
    "X2 = Property_Crime[['Population', 'Violent_Crime', 'Robbery']]\n",
    "X_train2, X_test2, Y_train2, Y_test2 = train_test_split(X2, Y, test_size=.35)\n",
    "regr.fit(X_train2, Y_train2)\n",
    "\n",
    "print('Coefficients: \\n', regr.coef_)\n",
    "print('Intercept: \\n', regr.intercept_)\n",
    "print(regr.score(X_train2, Y_train2))"
   ]
  },
  {
   "cell_type": "markdown",
   "metadata": {},
   "source": [
    "Ran this cell too many times too. :("
   ]
  },
  {
   "cell_type": "code",
   "execution_count": 135,
   "metadata": {},
   "outputs": [
    {
     "name": "stdout",
     "output_type": "stream",
     "text": [
      "Coefficients: \n",
      " [[ 0.03334822]]\n",
      "Intercept: \n",
      " [-134.00035387]\n",
      "0.774710784991\n"
     ]
    }
   ],
   "source": [
    "regr.fit(X_test, Y_test)\n",
    "\n",
    "print('Coefficients: \\n', regr.coef_)\n",
    "print('Intercept: \\n', regr.intercept_)\n",
    "print(regr.score(X_test, Y_test))"
   ]
  },
  {
   "cell_type": "code",
   "execution_count": 136,
   "metadata": {},
   "outputs": [
    {
     "name": "stdout",
     "output_type": "stream",
     "text": [
      "Coefficients: \n",
      " [[  0.018199     8.00187155 -14.86595314]]\n",
      "Intercept: \n",
      " [-44.04328289]\n",
      "0.897712610453\n"
     ]
    }
   ],
   "source": [
    "regr.fit(X_test2, Y_test2)\n",
    "\n",
    "print('Coefficients: \\n', regr.coef_)\n",
    "print('Intercept: \\n', regr.intercept_)\n",
    "print(regr.score(X_test2, Y_test2))"
   ]
  },
  {
   "cell_type": "markdown",
   "metadata": {},
   "source": [
    "Let's try some other columns."
   ]
  },
  {
   "cell_type": "code",
   "execution_count": 156,
   "metadata": {},
   "outputs": [
    {
     "name": "stdout",
     "output_type": "stream",
     "text": [
      "Coefficients: \n",
      " [[  1.40083255e-02   1.03248204e+02   5.03714610e+01  -2.08589413e+00]]\n",
      "Intercept: \n",
      " [ 22.97565508]\n",
      "0.99945396352\n"
     ]
    }
   ],
   "source": [
    "X3 = Property_Crime[['Population', 'Murder', 'Rape', 'Assault']]\n",
    "X_train3, X_test3, Y_train3, Y_test3 = train_test_split(X3, Y, test_size=.35)\n",
    "regr.fit(X_train3, Y_train3)\n",
    "\n",
    "print('Coefficients: \\n', regr.coef_)\n",
    "print('Intercept: \\n', regr.intercept_)\n",
    "print(regr.score(X_train3, Y_train3))"
   ]
  },
  {
   "cell_type": "markdown",
   "metadata": {},
   "source": [
    "That score looks overfit. Test time!"
   ]
  },
  {
   "cell_type": "code",
   "execution_count": 158,
   "metadata": {},
   "outputs": [
    {
     "name": "stdout",
     "output_type": "stream",
     "text": [
      "Coefficients: \n",
      " [[  1.87848239e-02  -8.03781212e+01   3.35241378e+01   3.77433403e+00]]\n",
      "Intercept: \n",
      " [-56.35329515]\n",
      "0.984011596357\n"
     ]
    }
   ],
   "source": [
    "regr.fit(X_test3, Y_test3)\n",
    "\n",
    "print('Coefficients: \\n', regr.coef_)\n",
    "print('Intercept: \\n', regr.intercept_)\n",
    "print(regr.score(X_test3, Y_test3))"
   ]
  },
  {
   "cell_type": "code",
   "execution_count": 147,
   "metadata": {},
   "outputs": [],
   "source": [
    "Property_Crime['Murder'] = raw_crimes['Murder and\\nnonnegligent\\nmanslaughter']\n",
    "Property_Crime['Rape'] = raw_crimes['Rape\\n(legacy\\ndefinition)2'].str.replace(',','').astype(float)\n",
    "Property_Crime['Assault'] = raw_crimes['Aggravated\\nassault'].str.replace(',','').astype(float)\n",
    "Property_Crime['Burglary'] = raw_crimes['Burglary'].str.replace(',','').astype(float)\n",
    "Property_Crime['Larceny'] = raw_crimes['Larceny-\\ntheft'].str.replace(',','').astype(float)\n",
    "Property_Crime['Motor_vehicle_theft'] = raw_crimes['Motor\\nvehicle\\ntheft'].str.replace(',','').astype(float)"
   ]
  },
  {
   "cell_type": "markdown",
   "metadata": {},
   "source": [
    "Add new columns for new features, to test in the model. And maybe split it up into different sized cities and see if that affects it."
   ]
  },
  {
   "cell_type": "code",
   "execution_count": 159,
   "metadata": {},
   "outputs": [
    {
     "name": "stdout",
     "output_type": "stream",
     "text": [
      "Coefficients: \n",
      " [[  2.94442092e-17   1.00000000e+00   1.00000000e+00   1.00000000e+00]]\n",
      "Intercept: \n",
      " [ -1.70530257e-13]\n",
      "1.0\n"
     ]
    }
   ],
   "source": [
    "X4 = Property_Crime[['Population', 'Burglary', 'Larceny', 'Motor_vehicle_theft']]\n",
    "X_train4, X_test4, Y_train4, Y_test4 = train_test_split(X4, Y, test_size=.35)\n",
    "regr.fit(X_train4, Y_train4)\n",
    "\n",
    "print('Coefficients: \\n', regr.coef_)\n",
    "print('Intercept: \\n', regr.intercept_)\n",
    "print(regr.score(X_train4, Y_train4))"
   ]
  },
  {
   "cell_type": "markdown",
   "metadata": {},
   "source": [
    "hahahahahaaha"
   ]
  },
  {
   "cell_type": "code",
   "execution_count": 172,
   "metadata": {},
   "outputs": [],
   "source": [
    "Property_Crime['Small_City'] = np.where((Property_Crime['Population'] < 10000), 0, 1)\n",
    "#Property_Crime['Medium_City'] = np.where(((Property_Crime['Population'] >= 10000) & (Property_Crime['Population'] < 1000000)), 0, 1)\n",
    "Property_Crime['Big_City'] = np.where((Property_Crime['Population'] >= 1000000), 0, 1)"
   ]
  },
  {
   "cell_type": "code",
   "execution_count": 163,
   "metadata": {},
   "outputs": [
    {
     "data": {
      "text/plain": [
       "<matplotlib.axes._subplots.AxesSubplot at 0x11d751e10>"
      ]
     },
     "execution_count": 163,
     "metadata": {},
     "output_type": "execute_result"
    },
    {
     "data": {
      "image/png": "[encoded data removed]",
      "text/plain": [
       "<matplotlib.figure.Figure at 0x11d52e2e8>"
      ]
     },
     "metadata": {},
     "output_type": "display_data"
    }
   ],
   "source": [
    "sns.heatmap(raw_crimes.corr())"
   ]
  },
  {
   "cell_type": "code",
   "execution_count": 164,
   "metadata": {},
   "outputs": [
    {
     "data": {
      "text/plain": [
       "<matplotlib.axes._subplots.AxesSubplot at 0x11d416128>"
      ]
     },
     "execution_count": 164,
     "metadata": {},
     "output_type": "execute_result"
    },
    {
     "data": {
      "image/png": "[encoded data removed]",
      "text/plain": [
       "<matplotlib.figure.Figure at 0x11d12ad68>"
      ]
     },
     "metadata": {},
     "output_type": "display_data"
    }
   ],
   "source": [
    "sns.heatmap(Property_Crime.corr())"
   ]
  },
  {
   "cell_type": "code",
   "execution_count": null,
   "metadata": {
    "collapsed": true
   },
   "outputs": [],
   "source": []
  }
 ],
 "metadata": {
  "kernelspec": {
   "display_name": "Python 3",
   "language": "python",
   "name": "python3"
  },
  "language_info": {
   "codemirror_mode": {
    "name": "ipython",
    "version": 3
   },
   "file_extension": ".py",
   "mimetype": "text/x-python",
   "name": "python",
   "nbconvert_exporter": "python",
   "pygments_lexer": "ipython3",
   "version": "3.6.1"
  }
 },
 "nbformat": 4,
 "nbformat_minor": 2
}
