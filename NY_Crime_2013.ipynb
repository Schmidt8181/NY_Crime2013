{
 "cells": [
  {
   "cell_type": "code",
   "execution_count": 175,
   "metadata": {
    "collapsed": true
   },
   "outputs": [],
   "source": [
    "%matplotlib inline\n",
    "import numpy as np\n",
    "import pandas as pd\n",
    "import scipy\n",
    "import sklearn\n",
    "from sklearn import linear_model\n",
    "from sklearn.model_selection import train_test_split\n",
    "from sklearn import preprocessing\n",
    "import matplotlib.pyplot as plt\n",
    "import seaborn as sns"
   ]
  },
  {
   "cell_type": "markdown",
   "metadata": {},
   "source": [
    "# Linear Regression Model challenge\n",
    "\n",
    "First, I set up the working environment. Next, I imported my data, making sure to capture the correct column names and leave out extranious rows. Then I took my first look at the data."
   ]
  },
  {
   "cell_type": "code",
   "execution_count": 176,
   "metadata": {
    "scrolled": true
   },
   "outputs": [
    {
     "data": {
      "text/html": [
       "<div>\n",
       "<style>\n",
       "    .dataframe thead tr:only-child th {\n",
       "        text-align: right;\n",
       "    }\n",
       "\n",
       "    .dataframe thead th {\n",
       "        text-align: left;\n",
       "    }\n",
       "\n",
       "    .dataframe tbody tr th {\n",
       "        vertical-align: top;\n",
       "    }\n",
       "</style>\n",
       "<table border=\"1\" class=\"dataframe\">\n",
       "  <thead>\n",
       "    <tr style=\"text-align: right;\">\n",
       "      <th></th>\n",
       "      <th>City</th>\n",
       "      <th>Population</th>\n",
       "      <th>Violent\n",
       "crime</th>\n",
       "      <th>Murder and\n",
       "nonnegligent\n",
       "manslaughter</th>\n",
       "      <th>Rape\n",
       "(revised\n",
       "definition)1</th>\n",
       "      <th>Rape\n",
       "(legacy\n",
       "definition)2</th>\n",
       "      <th>Robbery</th>\n",
       "      <th>Aggravated\n",
       "assault</th>\n",
       "      <th>Property\n",
       "crime</th>\n",
       "      <th>Burglary</th>\n",
       "      <th>Larceny-\n",
       "theft</th>\n",
       "      <th>Motor\n",
       "vehicle\n",
       "theft</th>\n",
       "      <th>Arson3</th>\n",
       "    </tr>\n",
       "  </thead>\n",
       "  <tbody>\n",
       "    <tr>\n",
       "      <th>0</th>\n",
       "      <td>Adams Village</td>\n",
       "      <td>1,861</td>\n",
       "      <td>0</td>\n",
       "      <td>0.0</td>\n",
       "      <td>NaN</td>\n",
       "      <td>0</td>\n",
       "      <td>0</td>\n",
       "      <td>0</td>\n",
       "      <td>12</td>\n",
       "      <td>2</td>\n",
       "      <td>10</td>\n",
       "      <td>0</td>\n",
       "      <td>0.0</td>\n",
       "    </tr>\n",
       "    <tr>\n",
       "      <th>1</th>\n",
       "      <td>Addison Town and Village</td>\n",
       "      <td>2,577</td>\n",
       "      <td>3</td>\n",
       "      <td>0.0</td>\n",
       "      <td>NaN</td>\n",
       "      <td>0</td>\n",
       "      <td>0</td>\n",
       "      <td>3</td>\n",
       "      <td>24</td>\n",
       "      <td>3</td>\n",
       "      <td>20</td>\n",
       "      <td>1</td>\n",
       "      <td>0.0</td>\n",
       "    </tr>\n",
       "    <tr>\n",
       "      <th>2</th>\n",
       "      <td>Akron Village</td>\n",
       "      <td>2,846</td>\n",
       "      <td>3</td>\n",
       "      <td>0.0</td>\n",
       "      <td>NaN</td>\n",
       "      <td>0</td>\n",
       "      <td>0</td>\n",
       "      <td>3</td>\n",
       "      <td>16</td>\n",
       "      <td>1</td>\n",
       "      <td>15</td>\n",
       "      <td>0</td>\n",
       "      <td>0.0</td>\n",
       "    </tr>\n",
       "    <tr>\n",
       "      <th>3</th>\n",
       "      <td>Albany</td>\n",
       "      <td>97,956</td>\n",
       "      <td>791</td>\n",
       "      <td>8.0</td>\n",
       "      <td>NaN</td>\n",
       "      <td>30</td>\n",
       "      <td>227</td>\n",
       "      <td>526</td>\n",
       "      <td>4,090</td>\n",
       "      <td>705</td>\n",
       "      <td>3,243</td>\n",
       "      <td>142</td>\n",
       "      <td>NaN</td>\n",
       "    </tr>\n",
       "    <tr>\n",
       "      <th>4</th>\n",
       "      <td>Albion Village</td>\n",
       "      <td>6,388</td>\n",
       "      <td>23</td>\n",
       "      <td>0.0</td>\n",
       "      <td>NaN</td>\n",
       "      <td>3</td>\n",
       "      <td>4</td>\n",
       "      <td>16</td>\n",
       "      <td>223</td>\n",
       "      <td>53</td>\n",
       "      <td>165</td>\n",
       "      <td>5</td>\n",
       "      <td>NaN</td>\n",
       "    </tr>\n",
       "  </tbody>\n",
       "</table>\n",
       "</div>"
      ],
      "text/plain": [
       "                       City Population Violent\\ncrime  \\\n",
       "0             Adams Village      1,861              0   \n",
       "1  Addison Town and Village      2,577              3   \n",
       "2             Akron Village      2,846              3   \n",
       "3                    Albany     97,956            791   \n",
       "4            Albion Village      6,388             23   \n",
       "\n",
       "   Murder and\\nnonnegligent\\nmanslaughter  Rape\\n(revised\\ndefinition)1  \\\n",
       "0                                     0.0                           NaN   \n",
       "1                                     0.0                           NaN   \n",
       "2                                     0.0                           NaN   \n",
       "3                                     8.0                           NaN   \n",
       "4                                     0.0                           NaN   \n",
       "\n",
       "  Rape\\n(legacy\\ndefinition)2 Robbery Aggravated\\nassault Property\\ncrime  \\\n",
       "0                           0       0                   0              12   \n",
       "1                           0       0                   3              24   \n",
       "2                           0       0                   3              16   \n",
       "3                          30     227                 526           4,090   \n",
       "4                           3       4                  16             223   \n",
       "\n",
       "  Burglary Larceny-\\ntheft Motor\\nvehicle\\ntheft  Arson3  \n",
       "0        2              10                     0     0.0  \n",
       "1        3              20                     1     0.0  \n",
       "2        1              15                     0     0.0  \n",
       "3      705           3,243                   142     NaN  \n",
       "4       53             165                     5     NaN  "
      ]
     },
     "execution_count": 176,
     "metadata": {},
     "output_type": "execute_result"
    }
   ],
   "source": [
    "data = ('/Users/Beba/Documents/JupyterNotebooks/NY2013Crimes.csv')\n",
    "raw_crimes = pd.read_csv(data, skiprows=4)\n",
    "raw_crimes.head()"
   ]
  },
  {
   "cell_type": "markdown",
   "metadata": {},
   "source": [
    "## The next step is to do some data cleaning, rearranging and scaling."
   ]
  },
  {
   "cell_type": "code",
   "execution_count": 5,
   "metadata": {
    "collapsed": true
   },
   "outputs": [],
   "source": [
    "Property_Crime = pd.DataFrame()"
   ]
  },
  {
   "cell_type": "code",
   "execution_count": 6,
   "metadata": {
    "collapsed": true
   },
   "outputs": [],
   "source": [
    "Property_Crime['City'] = raw_crimes['City']\n",
    "Property_Crime['Population'] = raw_crimes['Population']\n",
    "Property_Crime['Robbery'] = raw_crimes['Robbery']\n",
    "Property_Crime['Murder'] = raw_crimes['Murder and\\nnonnegligent\\nmanslaughter']"
   ]
  },
  {
   "cell_type": "code",
   "execution_count": 7,
   "metadata": {
    "collapsed": true
   },
   "outputs": [],
   "source": [
    "Property_Crime['Population'] = Property_Crime['Population'].str.replace(',','').astype(float)"
   ]
  },
  {
   "cell_type": "code",
   "execution_count": 8,
   "metadata": {
    "collapsed": true
   },
   "outputs": [],
   "source": [
    "Property_Crime['PopulationSQ'] = Property_Crime['Population'].apply(lambda x: x*x)"
   ]
  },
  {
   "cell_type": "code",
   "execution_count": 13,
   "metadata": {},
   "outputs": [
    {
     "data": {
      "text/html": [
       "<div>\n",
       "<style>\n",
       "    .dataframe thead tr:only-child th {\n",
       "        text-align: right;\n",
       "    }\n",
       "\n",
       "    .dataframe thead th {\n",
       "        text-align: left;\n",
       "    }\n",
       "\n",
       "    .dataframe tbody tr th {\n",
       "        vertical-align: top;\n",
       "    }\n",
       "</style>\n",
       "<table border=\"1\" class=\"dataframe\">\n",
       "  <thead>\n",
       "    <tr style=\"text-align: right;\">\n",
       "      <th></th>\n",
       "      <th>City</th>\n",
       "      <th>Population</th>\n",
       "      <th>Robbery</th>\n",
       "      <th>Murder</th>\n",
       "      <th>PopulationSQ</th>\n",
       "    </tr>\n",
       "  </thead>\n",
       "  <tbody>\n",
       "    <tr>\n",
       "      <th>0</th>\n",
       "      <td>Adams Village</td>\n",
       "      <td>1861.0</td>\n",
       "      <td>0</td>\n",
       "      <td>0.0</td>\n",
       "      <td>3.463321e+06</td>\n",
       "    </tr>\n",
       "    <tr>\n",
       "      <th>1</th>\n",
       "      <td>Addison Town and Village</td>\n",
       "      <td>2577.0</td>\n",
       "      <td>0</td>\n",
       "      <td>0.0</td>\n",
       "      <td>6.640929e+06</td>\n",
       "    </tr>\n",
       "    <tr>\n",
       "      <th>2</th>\n",
       "      <td>Akron Village</td>\n",
       "      <td>2846.0</td>\n",
       "      <td>0</td>\n",
       "      <td>0.0</td>\n",
       "      <td>8.099716e+06</td>\n",
       "    </tr>\n",
       "    <tr>\n",
       "      <th>3</th>\n",
       "      <td>Albany</td>\n",
       "      <td>97956.0</td>\n",
       "      <td>227</td>\n",
       "      <td>8.0</td>\n",
       "      <td>9.595378e+09</td>\n",
       "    </tr>\n",
       "    <tr>\n",
       "      <th>4</th>\n",
       "      <td>Albion Village</td>\n",
       "      <td>6388.0</td>\n",
       "      <td>4</td>\n",
       "      <td>0.0</td>\n",
       "      <td>4.080654e+07</td>\n",
       "    </tr>\n",
       "  </tbody>\n",
       "</table>\n",
       "</div>"
      ],
      "text/plain": [
       "                       City  Population Robbery  Murder  PopulationSQ\n",
       "0             Adams Village      1861.0       0     0.0  3.463321e+06\n",
       "1  Addison Town and Village      2577.0       0     0.0  6.640929e+06\n",
       "2             Akron Village      2846.0       0     0.0  8.099716e+06\n",
       "3                    Albany     97956.0     227     8.0  9.595378e+09\n",
       "4            Albion Village      6388.0       4     0.0  4.080654e+07"
      ]
     },
     "execution_count": 13,
     "metadata": {},
     "output_type": "execute_result"
    }
   ],
   "source": [
    "Property_Crime.head()"
   ]
  },
  {
   "cell_type": "code",
   "execution_count": 261,
   "metadata": {},
   "outputs": [],
   "source": [
    "Property_Crime['Robbery_Category'] = np.where((Property_Crime['Robbery'] == 0.0), 0, 1)"
   ]
  },
  {
   "cell_type": "code",
   "execution_count": 68,
   "metadata": {},
   "outputs": [],
   "source": [
    "Property_Crime['Murder'] = Property_Crime['Murder'].astype(str)\n",
    "Property_Crime['Murder_Category'] = np.where(Property_Crime['Murder'].str.contains(\"0.0\"), 0, 1)"
   ]
  },
  {
   "cell_type": "code",
   "execution_count": 72,
   "metadata": {},
   "outputs": [],
   "source": [
    "Property_Crime.drop(['Robbery'], axis=1, inplace=True)\n",
    "Property_Crime.drop(['Murder'], axis=1, inplace=True)"
   ]
  },
  {
   "cell_type": "code",
   "execution_count": 76,
   "metadata": {},
   "outputs": [
    {
     "data": {
      "text/html": [
       "<div>\n",
       "<style>\n",
       "    .dataframe thead tr:only-child th {\n",
       "        text-align: right;\n",
       "    }\n",
       "\n",
       "    .dataframe thead th {\n",
       "        text-align: left;\n",
       "    }\n",
       "\n",
       "    .dataframe tbody tr th {\n",
       "        vertical-align: top;\n",
       "    }\n",
       "</style>\n",
       "<table border=\"1\" class=\"dataframe\">\n",
       "  <thead>\n",
       "    <tr style=\"text-align: right;\">\n",
       "      <th></th>\n",
       "      <th>Population</th>\n",
       "      <th>PopulationSQ</th>\n",
       "      <th>Robbery_Category</th>\n",
       "      <th>Murder_Category</th>\n",
       "    </tr>\n",
       "  </thead>\n",
       "  <tbody>\n",
       "    <tr>\n",
       "      <th>count</th>\n",
       "      <td>3.480000e+02</td>\n",
       "      <td>3.480000e+02</td>\n",
       "      <td>351.000000</td>\n",
       "      <td>351.000000</td>\n",
       "    </tr>\n",
       "    <tr>\n",
       "      <th>mean</th>\n",
       "      <td>4.003763e+04</td>\n",
       "      <td>2.035547e+11</td>\n",
       "      <td>0.575499</td>\n",
       "      <td>0.145299</td>\n",
       "    </tr>\n",
       "    <tr>\n",
       "      <th>std</th>\n",
       "      <td>4.500374e+05</td>\n",
       "      <td>3.778876e+12</td>\n",
       "      <td>0.494973</td>\n",
       "      <td>0.352905</td>\n",
       "    </tr>\n",
       "    <tr>\n",
       "      <th>min</th>\n",
       "      <td>5.260000e+02</td>\n",
       "      <td>2.766760e+05</td>\n",
       "      <td>0.000000</td>\n",
       "      <td>0.000000</td>\n",
       "    </tr>\n",
       "    <tr>\n",
       "      <th>25%</th>\n",
       "      <td>3.003000e+03</td>\n",
       "      <td>9.018117e+06</td>\n",
       "      <td>0.000000</td>\n",
       "      <td>0.000000</td>\n",
       "    </tr>\n",
       "    <tr>\n",
       "      <th>50%</th>\n",
       "      <td>7.233500e+03</td>\n",
       "      <td>5.232568e+07</td>\n",
       "      <td>1.000000</td>\n",
       "      <td>0.000000</td>\n",
       "    </tr>\n",
       "    <tr>\n",
       "      <th>75%</th>\n",
       "      <td>1.842750e+04</td>\n",
       "      <td>3.397536e+08</td>\n",
       "      <td>1.000000</td>\n",
       "      <td>0.000000</td>\n",
       "    </tr>\n",
       "    <tr>\n",
       "      <th>max</th>\n",
       "      <td>8.396126e+06</td>\n",
       "      <td>7.049493e+13</td>\n",
       "      <td>1.000000</td>\n",
       "      <td>1.000000</td>\n",
       "    </tr>\n",
       "  </tbody>\n",
       "</table>\n",
       "</div>"
      ],
      "text/plain": [
       "         Population  PopulationSQ  Robbery_Category  Murder_Category\n",
       "count  3.480000e+02  3.480000e+02        351.000000       351.000000\n",
       "mean   4.003763e+04  2.035547e+11          0.575499         0.145299\n",
       "std    4.500374e+05  3.778876e+12          0.494973         0.352905\n",
       "min    5.260000e+02  2.766760e+05          0.000000         0.000000\n",
       "25%    3.003000e+03  9.018117e+06          0.000000         0.000000\n",
       "50%    7.233500e+03  5.232568e+07          1.000000         0.000000\n",
       "75%    1.842750e+04  3.397536e+08          1.000000         0.000000\n",
       "max    8.396126e+06  7.049493e+13          1.000000         1.000000"
      ]
     },
     "execution_count": 76,
     "metadata": {},
     "output_type": "execute_result"
    }
   ],
   "source": [
    "Property_Crime.describe()"
   ]
  },
  {
   "cell_type": "code",
   "execution_count": 114,
   "metadata": {},
   "outputs": [
    {
     "data": {
      "text/plain": [
       "City                                        0\n",
       "Population                                  0\n",
       "Violent\\ncrime                              0\n",
       "Murder and\\nnonnegligent\\nmanslaughter      0\n",
       "Rape\\n(revised\\ndefinition)1              348\n",
       "Rape\\n(legacy\\ndefinition)2                 0\n",
       "Robbery                                     0\n",
       "Aggravated\\nassault                         0\n",
       "Property\\ncrime                             0\n",
       "Burglary                                    0\n",
       "Larceny-\\ntheft                             0\n",
       "Motor\\nvehicle\\ntheft                       0\n",
       "Arson3                                    161\n",
       "dtype: int64"
      ]
     },
     "execution_count": 114,
     "metadata": {},
     "output_type": "execute_result"
    }
   ],
   "source": [
    "#Property_Crime['Population'] = raw_crimes['Population']\n",
    "#Property_Crime['Population'] = Property_Crime['Population'].astype(float)\n",
    "#Property_Crime['PopulationSQ'] = Property_Crime['Population'].apply(lambda x: x*x)\n",
    "raw_crimes.isnull().sum()"
   ]
  },
  {
   "cell_type": "code",
   "execution_count": 109,
   "metadata": {},
   "outputs": [],
   "source": [
    "Property_Crime.dropna(subset = ['Population', 'PopulationSQ'], inplace=True)"
   ]
  },
  {
   "cell_type": "code",
   "execution_count": 179,
   "metadata": {
    "collapsed": true
   },
   "outputs": [],
   "source": [
    "raw_crimes.dropna(subset = ['Property\\ncrime',\n",
    "                            'Population',\n",
    "                            'Violent\\ncrime',\n",
    "                            'Robbery',\n",
    "                            'Aggravated\\nassault'], inplace=True)"
   ]
  },
  {
   "cell_type": "code",
   "execution_count": 199,
   "metadata": {
    "collapsed": true
   },
   "outputs": [],
   "source": [
    "regr = linear_model.LinearRegression()"
   ]
  },
  {
   "cell_type": "code",
   "execution_count": 294,
   "metadata": {},
   "outputs": [],
   "source": [
    "Y = raw_crimes['Property\\ncrime'].values.reshape(-1, 1)\n",
    "X = Property_Crime['Population'].values.reshape(-1,1)\n",
    "min_max_scaler = preprocessing.MinMaxScaler()\n",
    "X_train, X_test, Y_train, Y_test = train_test_split(X, Y, test_size=.35)\n"
   ]
  },
  {
   "cell_type": "code",
   "execution_count": 292,
   "metadata": {},
   "outputs": [],
   "source": [
    "raw_crimes['Property\\ncrime'] = raw_crimes['Property\\ncrime'].astype(float)"
   ]
  },
  {
   "cell_type": "code",
   "execution_count": 386,
   "metadata": {
    "collapsed": true
   },
   "outputs": [],
   "source": [
    "raw_crimes['Population'] = raw_crimes['Population'].str.replace(',','').astype(float)"
   ]
  },
  {
   "cell_type": "code",
   "execution_count": 197,
   "metadata": {
    "collapsed": true
   },
   "outputs": [],
   "source": [
    "X_train_minmax = min_max_scaler.fit_transform(X_train)\n",
    "X_test_minmax = min_max_scaler.transform(X_test)\n",
    "Y_train_minmax = min_max_scaler.fit_transform(Y_train)\n",
    "Y_test_minmax = min_max_scaler.transform(Y_test)"
   ]
  },
  {
   "cell_type": "markdown",
   "metadata": {},
   "source": [
    "## Next up is the actual regression!"
   ]
  },
  {
   "cell_type": "code",
   "execution_count": 203,
   "metadata": {},
   "outputs": [
    {
     "name": "stdout",
     "output_type": "stream",
     "text": [
      "Coefficients: \n",
      " [[ 0.67780331]]\n",
      "Intercept: \n",
      " [-0.00938326]\n",
      "0.113177244624\n"
     ]
    }
   ],
   "source": [
    "# the actual regression\n",
    "\n",
    "regr.fit(X_train_minmax, Y_train_minmax)\n",
    "\n",
    "\n",
    "print('Coefficients: \\n', regr.coef_)\n",
    "print('Intercept: \\n', regr.intercept_)\n",
    "print(regr.score(X_test_minmax, Y_test_minmax))"
   ]
  },
  {
   "cell_type": "code",
   "execution_count": 122,
   "metadata": {
    "collapsed": true
   },
   "outputs": [],
   "source": [
    "Property_Crime['Robbery'] = raw_crimes['Robbery'].str.replace(',','').astype(float)"
   ]
  },
  {
   "cell_type": "code",
   "execution_count": 123,
   "metadata": {
    "collapsed": true
   },
   "outputs": [],
   "source": [
    "Property_Crime['Violent_Crime'] = raw_crimes['Violent\\ncrime'].str.replace(',','').astype(float)"
   ]
  },
  {
   "cell_type": "markdown",
   "metadata": {},
   "source": [
    "Population alone only seems to account for 11% of the variance in our model. Let's try some different features."
   ]
  },
  {
   "cell_type": "code",
   "execution_count": 204,
   "metadata": {},
   "outputs": [
    {
     "name": "stdout",
     "output_type": "stream",
     "text": [
      "Coefficients: \n",
      " [[ 0.54413717  0.13946844  0.53073963 -0.21450447]]\n",
      "Intercept: \n",
      " [ 0.00049404]\n",
      "0.950128885772\n"
     ]
    }
   ],
   "source": [
    "X3 = Property_Crime[['Population', 'Murder', 'Rape', 'Assault']]\n",
    "X_train3, X_test3, Y_train3, Y_test3 = train_test_split(X3, Y, test_size=.35)\n",
    "\n",
    "X_train_minmax3 = min_max_scaler.fit_transform(X_train3)\n",
    "X_test_minmax3 = min_max_scaler.transform(X_test3)\n",
    "Y_train_minmax3 = min_max_scaler.fit_transform(Y_train3)\n",
    "Y_test_minmax3 = min_max_scaler.transform(Y_test3)\n",
    "\n",
    "regr.fit(X_train_minmax3, Y_train_minmax3)\n",
    "\n",
    "print('Coefficients: \\n', regr.coef_)\n",
    "print('Intercept: \\n', regr.intercept_)\n",
    "print(regr.score(X_test_minmax3, Y_test_minmax3))\n"
   ]
  },
  {
   "cell_type": "markdown",
   "metadata": {},
   "source": [
    "This set of features seems to explain a huge amount of variance in our data. "
   ]
  },
  {
   "cell_type": "code",
   "execution_count": 147,
   "metadata": {},
   "outputs": [],
   "source": [
    "Property_Crime['Murder'] = raw_crimes['Murder and\\nnonnegligent\\nmanslaughter']\n",
    "Property_Crime['Rape'] = raw_crimes['Rape\\n(legacy\\ndefinition)2'].str.replace(',','').astype(float)\n",
    "Property_Crime['Assault'] = raw_crimes['Aggravated\\nassault'].str.replace(',','').astype(float)\n",
    "Property_Crime['Burglary'] = raw_crimes['Burglary'].str.replace(',','').astype(float)\n",
    "Property_Crime['Larceny'] = raw_crimes['Larceny-\\ntheft'].str.replace(',','').astype(float)\n",
    "Property_Crime['Motor_vehicle_theft'] = raw_crimes['Motor\\nvehicle\\ntheft'].str.replace(',','').astype(float)"
   ]
  },
  {
   "cell_type": "markdown",
   "metadata": {},
   "source": [
    "Add new columns for new features, to test in the model. And maybe split it up into different sized cities and see if that affects it."
   ]
  },
  {
   "cell_type": "code",
   "execution_count": 389,
   "metadata": {},
   "outputs": [],
   "source": [
    "Property_Crime['Small_City'] = np.where((Property_Crime['Population'] < 100000), 1, 0)\n",
    "Property_Crime['Medium_City'] = np.where(((Property_Crime['Population'] >= 100000) & (Property_Crime['Population'] < 1000000)), 1, 0)\n",
    "Property_Crime['Big_City'] = np.where((Property_Crime['Population'] >= 1000000), 1, 0)"
   ]
  },
  {
   "cell_type": "code",
   "execution_count": 390,
   "metadata": {},
   "outputs": [
    {
     "data": {
      "text/plain": [
       "342"
      ]
     },
     "execution_count": 390,
     "metadata": {},
     "output_type": "execute_result"
    }
   ],
   "source": [
    "Property_Crime.Small_City.sum()"
   ]
  },
  {
   "cell_type": "code",
   "execution_count": 231,
   "metadata": {},
   "outputs": [
    {
     "name": "stdout",
     "output_type": "stream",
     "text": [
      "Coefficients: \n",
      " [[ 0.45925495  0.00119685  0.04907988  0.49060003]]\n",
      "Intercept: \n",
      " [ 0.00015373]\n",
      "0.938932421558\n"
     ]
    }
   ],
   "source": [
    "X4 = Property_Crime[['Population', 'Small_City', 'Murder', 'Rape']]\n",
    "X_train4, X_test4, Y_train4, Y_test4 = train_test_split(X4, Y, test_size=.35)\n",
    "\n",
    "X_train_minmax4 = min_max_scaler.fit_transform(X_train4)\n",
    "X_test_minmax4 = min_max_scaler.transform(X_test4)\n",
    "Y_train_minmax4 = min_max_scaler.fit_transform(Y_train4)\n",
    "Y_test_minmax4 = min_max_scaler.transform(Y_test4)\n",
    "\n",
    "regr.fit(X_train_minmax4, Y_train_minmax4)\n",
    "\n",
    "print('Coefficients: \\n', regr.coef_)\n",
    "print('Intercept: \\n', regr.intercept_)\n",
    "print(regr.score(X_test_minmax4, Y_test_minmax4))\n"
   ]
  },
  {
   "cell_type": "code",
   "execution_count": 242,
   "metadata": {},
   "outputs": [],
   "source": [
    "Y_pred = regr.fit(X_train_minmax4, Y_train_minmax4).predict(X_train_minmax4)\n"
   ]
  },
  {
   "cell_type": "code",
   "execution_count": 278,
   "metadata": {},
   "outputs": [],
   "source": [
    "Small_City_Crime = Property_Crime[Property_Crime['Small_City'] == 1]"
   ]
  },
  {
   "cell_type": "code",
   "execution_count": 329,
   "metadata": {},
   "outputs": [
    {
     "name": "stdout",
     "output_type": "stream",
     "text": [
      "Coefficients: \n",
      " [[-0.44113872  0.01812845  0.43159857  0.99043029]]\n",
      "Intercept: \n",
      " [ 0.00113606]\n",
      "0.943844210761\n"
     ]
    }
   ],
   "source": [
    "X5 = Property_Crime[['Robbery', 'Murder', 'Rape', 'Assault']]\n",
    "X_train5, X_test5, Y_train5, Y_test5 = train_test_split(X5, Y, test_size=.35)\n",
    "\n",
    "X_train_minmax5 = min_max_scaler.fit_transform(X_train5)\n",
    "X_test_minmax5 = min_max_scaler.transform(X_test5)\n",
    "Y_train_minmax5 = min_max_scaler.fit_transform(Y_train5)\n",
    "Y_test_minmax5 = min_max_scaler.transform(Y_test5)\n",
    "\n",
    "regr.fit(X_train_minmax5, Y_train_minmax5)\n",
    "\n",
    "print('Coefficients: \\n', regr.coef_)\n",
    "print('Intercept: \\n', regr.intercept_)\n",
    "print(regr.score(X_test_minmax5, Y_test_minmax5))\n"
   ]
  },
  {
   "cell_type": "markdown",
   "metadata": {},
   "source": [
    "Gonna give cross validation a whirl. woo. o.O"
   ]
  },
  {
   "cell_type": "code",
   "execution_count": 463,
   "metadata": {},
   "outputs": [
    {
     "data": {
      "text/plain": [
       "array([ 0.90119075,  0.99949331,  0.9130164 ])"
      ]
     },
     "execution_count": 463,
     "metadata": {},
     "output_type": "execute_result"
    }
   ],
   "source": [
    "from sklearn.model_selection import cross_val_score\n",
    "scores = cross_val_score(regr.fit(X_train_minmax5, Y_train_minmax5), X5, Y, cv=3)\n",
    "scores  "
   ]
  },
  {
   "cell_type": "code",
   "execution_count": 462,
   "metadata": {},
   "outputs": [
    {
     "data": {
      "text/plain": [
       "array([ 0.91559441,  0.78017271,  0.91972089])"
      ]
     },
     "execution_count": 462,
     "metadata": {},
     "output_type": "execute_result"
    }
   ],
   "source": [
    "X_scaled = preprocessing.scale(X_train5)\n",
    "Y_scaled = preprocessing.scale(Y_train5) #?\n",
    "\n",
    "cross_val_score(regr.fit(X_scaled, Y_scaled), X_test5, Y_test5, cv=3)"
   ]
  },
  {
   "cell_type": "code",
   "execution_count": 337,
   "metadata": {},
   "outputs": [
    {
     "data": {
      "text/plain": [
       "0.076638318690665286"
      ]
     },
     "execution_count": 337,
     "metadata": {},
     "output_type": "execute_result"
    }
   ],
   "source": [
    "regr.fit(X_scaled, Y_scaled).score(X_test5, Y_test5)"
   ]
  },
  {
   "cell_type": "code",
   "execution_count": 338,
   "metadata": {},
   "outputs": [
    {
     "data": {
      "text/plain": [
       "0.9438442107607844"
      ]
     },
     "execution_count": 338,
     "metadata": {},
     "output_type": "execute_result"
    }
   ],
   "source": [
    "regr.fit(X_train5, Y_train5).score(X_test5, Y_test5)"
   ]
  },
  {
   "cell_type": "code",
   "execution_count": 363,
   "metadata": {
    "collapsed": true
   },
   "outputs": [],
   "source": [
    "from sklearn.feature_selection import f_regression"
   ]
  },
  {
   "cell_type": "code",
   "execution_count": null,
   "metadata": {
    "collapsed": true
   },
   "outputs": [],
   "source": [
    "raw_crimes['Population']"
   ]
  },
  {
   "cell_type": "code",
   "execution_count": 387,
   "metadata": {},
   "outputs": [],
   "source": [
    "Small_City_Y = raw_crimes['Property\\ncrime'].where((raw_crimes['Population'] < 100000), inplace=False)"
   ]
  },
  {
   "cell_type": "code",
   "execution_count": 394,
   "metadata": {},
   "outputs": [],
   "source": [
    "Small_City_Y.dropna(inplace=True)"
   ]
  },
  {
   "cell_type": "code",
   "execution_count": 461,
   "metadata": {},
   "outputs": [
    {
     "name": "stdout",
     "output_type": "stream",
     "text": [
      "Coefficients: \n",
      " [ 0.37881618 -0.08825847  0.28962952  0.34841175]\n",
      "Intercept: \n",
      " -0.00403964951775\n",
      "0.86132743872\n",
      "Cross Validation Scores [ 0.90055842  0.791319    0.85652342]\n"
     ]
    },
    {
     "name": "stderr",
     "output_type": "stream",
     "text": [
      "/anaconda/lib/python3.6/site-packages/sklearn/preprocessing/data.py:321: DeprecationWarning: Passing 1d arrays as data is deprecated in 0.17 and will raise ValueError in 0.19. Reshape your data either using X.reshape(-1, 1) if your data has a single feature or X.reshape(1, -1) if it contains a single sample.\n",
      "  warnings.warn(DEPRECATION_MSG_1D, DeprecationWarning)\n",
      "/anaconda/lib/python3.6/site-packages/sklearn/preprocessing/data.py:356: DeprecationWarning: Passing 1d arrays as data is deprecated in 0.17 and will raise ValueError in 0.19. Reshape your data either using X.reshape(-1, 1) if your data has a single feature or X.reshape(1, -1) if it contains a single sample.\n",
      "  warnings.warn(DEPRECATION_MSG_1D, DeprecationWarning)\n",
      "/anaconda/lib/python3.6/site-packages/sklearn/preprocessing/data.py:356: DeprecationWarning: Passing 1d arrays as data is deprecated in 0.17 and will raise ValueError in 0.19. Reshape your data either using X.reshape(-1, 1) if your data has a single feature or X.reshape(1, -1) if it contains a single sample.\n",
      "  warnings.warn(DEPRECATION_MSG_1D, DeprecationWarning)\n"
     ]
    }
   ],
   "source": [
    "X6 = Small_City_Crime[['Population', 'Murder', 'Rape', 'Assault']]\n",
    "X_train6, X_test6, Y_train6, Y_test6 = train_test_split(X6, Small_City_Y, test_size=.3)\n",
    "\n",
    "X_train_minmax6 = min_max_scaler.fit_transform(X_train6)\n",
    "X_test_minmax6 = min_max_scaler.transform(X_test6)\n",
    "Y_train_minmax6 = min_max_scaler.fit_transform(Y_train6)\n",
    "Y_test_minmax6 = min_max_scaler.transform(Y_test6)\n",
    "\n",
    "X_train_minmax6.reshape(-1, 1)\n",
    "X_test_minmax6.reshape(-1, 1)\n",
    "Y_train_minmax6.reshape(-1, 1)\n",
    "Y_test_minmax6.reshape(-1, 1)\n",
    "\n",
    "regr.fit(X_train_minmax6, Y_train_minmax6)\n",
    "\n",
    "print('Coefficients: \\n', regr.coef_)\n",
    "print('Intercept: \\n', regr.intercept_)\n",
    "print(regr.score(X_test_minmax6, Y_test_minmax6))\n",
    "\n",
    "scores = cross_val_score(regr.fit(X_train_minmax6, Y_train_minmax6), X6, Small_City_Y, cv=3)\n",
    "print('Cross Validation Scores', scores) "
   ]
  },
  {
   "cell_type": "markdown",
   "metadata": {},
   "source": [
    "This model seems to explain a good amount of variance as well. That's a satisfactory R-squared value. Time to check our assumptions."
   ]
  },
  {
   "cell_type": "code",
   "execution_count": 426,
   "metadata": {},
   "outputs": [],
   "source": [
    "import statsmodels.formula.api as smf\n",
    "from statsmodels.sandbox.regression.predstd import wls_prediction_std\n"
   ]
  },
  {
   "cell_type": "code",
   "execution_count": 443,
   "metadata": {},
   "outputs": [
    {
     "data": {
      "text/plain": [
       "(array([ 877.70192747,  184.38798482,  555.01269269,  661.74610575]),\n",
       " array([  3.28045971e-96,   7.42987890e-34,   1.90249174e-73,\n",
       "          8.86905997e-82]))"
      ]
     },
     "execution_count": 443,
     "metadata": {},
     "output_type": "execute_result"
    }
   ],
   "source": [
    "f_regression(X6, Small_City_Y)"
   ]
  },
  {
   "cell_type": "code",
   "execution_count": 459,
   "metadata": {},
   "outputs": [
    {
     "data": {
      "text/plain": [
       "(array([ 97866.48226054,  37370.82225754,  79939.59289857,  72483.91476369]),\n",
       " array([ 0.,  0.,  0.,  0.]))"
      ]
     },
     "execution_count": 459,
     "metadata": {},
     "output_type": "execute_result"
    }
   ],
   "source": [
    "f_regression(X5, Y.ravel())"
   ]
  },
  {
   "cell_type": "code",
   "execution_count": 460,
   "metadata": {},
   "outputs": [
    {
     "ename": "NameError",
     "evalue": "name 'LinearRegression' is not defined",
     "output_type": "error",
     "traceback": [
      "\u001b[0;31m---------------------------------------------------------------------------\u001b[0m",
      "\u001b[0;31mNameError\u001b[0m                                 Traceback (most recent call last)",
      "\u001b[0;32m<ipython-input-460-c35e63713a64>\u001b[0m in \u001b[0;36m<module>\u001b[0;34m()\u001b[0m\n\u001b[0;32m----> 1\u001b[0;31m \u001b[0mLinearRegression\u001b[0m\u001b[0;34m.\u001b[0m\u001b[0mget_params\u001b[0m\u001b[0;34m(\u001b[0m\u001b[0;34m)\u001b[0m\u001b[0;34m\u001b[0m\u001b[0m\n\u001b[0m",
      "\u001b[0;31mNameError\u001b[0m: name 'LinearRegression' is not defined"
     ]
    }
   ],
   "source": [
    "LinearRegression.get_params()"
   ]
  },
  {
   "cell_type": "markdown",
   "metadata": {},
   "source": [
    "## Linear Relationship"
   ]
  },
  {
   "cell_type": "markdown",
   "metadata": {},
   "source": [
    "## Next lets see what the residuals look like"
   ]
  },
  {
   "cell_type": "code",
   "execution_count": 266,
   "metadata": {},
   "outputs": [],
   "source": [
    "import statsmodels.formula.api as smf\n",
    "from statsmodels.sandbox.regression.predstd import wls_prediction_std"
   ]
  },
  {
   "cell_type": "code",
   "execution_count": 453,
   "metadata": {},
   "outputs": [
    {
     "data": {
      "text/html": [
       "<div>\n",
       "<style>\n",
       "    .dataframe thead tr:only-child th {\n",
       "        text-align: right;\n",
       "    }\n",
       "\n",
       "    .dataframe thead th {\n",
       "        text-align: left;\n",
       "    }\n",
       "\n",
       "    .dataframe tbody tr th {\n",
       "        vertical-align: top;\n",
       "    }\n",
       "</style>\n",
       "<table border=\"1\" class=\"dataframe\">\n",
       "  <thead>\n",
       "    <tr style=\"text-align: right;\">\n",
       "      <th></th>\n",
       "      <th>City</th>\n",
       "      <th>Population</th>\n",
       "      <th>PopulationSQ</th>\n",
       "      <th>Robbery_Category</th>\n",
       "      <th>Murder_Category</th>\n",
       "      <th>Robbery</th>\n",
       "      <th>Murder</th>\n",
       "      <th>Rape</th>\n",
       "      <th>Assault</th>\n",
       "    </tr>\n",
       "  </thead>\n",
       "  <tbody>\n",
       "    <tr>\n",
       "      <th>0</th>\n",
       "      <td>Adams Village</td>\n",
       "      <td>1861.0</td>\n",
       "      <td>3.463321e+06</td>\n",
       "      <td>0</td>\n",
       "      <td>0</td>\n",
       "      <td>0.0</td>\n",
       "      <td>0.0</td>\n",
       "      <td>0.0</td>\n",
       "      <td>0.0</td>\n",
       "    </tr>\n",
       "    <tr>\n",
       "      <th>1</th>\n",
       "      <td>Addison Town and Village</td>\n",
       "      <td>2577.0</td>\n",
       "      <td>6.640929e+06</td>\n",
       "      <td>0</td>\n",
       "      <td>0</td>\n",
       "      <td>0.0</td>\n",
       "      <td>0.0</td>\n",
       "      <td>0.0</td>\n",
       "      <td>3.0</td>\n",
       "    </tr>\n",
       "    <tr>\n",
       "      <th>2</th>\n",
       "      <td>Akron Village</td>\n",
       "      <td>2846.0</td>\n",
       "      <td>8.099716e+06</td>\n",
       "      <td>0</td>\n",
       "      <td>0</td>\n",
       "      <td>0.0</td>\n",
       "      <td>0.0</td>\n",
       "      <td>0.0</td>\n",
       "      <td>3.0</td>\n",
       "    </tr>\n",
       "    <tr>\n",
       "      <th>3</th>\n",
       "      <td>Albany</td>\n",
       "      <td>97956.0</td>\n",
       "      <td>9.595378e+09</td>\n",
       "      <td>1</td>\n",
       "      <td>1</td>\n",
       "      <td>227.0</td>\n",
       "      <td>8.0</td>\n",
       "      <td>30.0</td>\n",
       "      <td>526.0</td>\n",
       "    </tr>\n",
       "    <tr>\n",
       "      <th>4</th>\n",
       "      <td>Albion Village</td>\n",
       "      <td>6388.0</td>\n",
       "      <td>4.080654e+07</td>\n",
       "      <td>1</td>\n",
       "      <td>0</td>\n",
       "      <td>4.0</td>\n",
       "      <td>0.0</td>\n",
       "      <td>3.0</td>\n",
       "      <td>16.0</td>\n",
       "    </tr>\n",
       "  </tbody>\n",
       "</table>\n",
       "</div>"
      ],
      "text/plain": [
       "                       City  Population  PopulationSQ  Robbery_Category  \\\n",
       "0             Adams Village      1861.0  3.463321e+06                 0   \n",
       "1  Addison Town and Village      2577.0  6.640929e+06                 0   \n",
       "2             Akron Village      2846.0  8.099716e+06                 0   \n",
       "3                    Albany     97956.0  9.595378e+09                 1   \n",
       "4            Albion Village      6388.0  4.080654e+07                 1   \n",
       "\n",
       "   Murder_Category  Robbery  Murder  Rape  Assault  \n",
       "0                0      0.0     0.0   0.0      0.0  \n",
       "1                0      0.0     0.0   0.0      3.0  \n",
       "2                0      0.0     0.0   0.0      3.0  \n",
       "3                1    227.0     8.0  30.0    526.0  \n",
       "4                0      4.0     0.0   3.0     16.0  "
      ]
     },
     "execution_count": 453,
     "metadata": {},
     "output_type": "execute_result"
    }
   ],
   "source": [
    "Small_City_Crime.head()"
   ]
  },
  {
   "cell_type": "code",
   "execution_count": 467,
   "metadata": {},
   "outputs": [],
   "source": [
    "lm = smf.ols(formula='Y ~ Murder+Rape+Assault', data=Property_Crime)"
   ]
  },
  {
   "cell_type": "code",
   "execution_count": 469,
   "metadata": {},
   "outputs": [
    {
     "ename": "AttributeError",
     "evalue": "'OLS' object has no attribute 'params'",
     "output_type": "error",
     "traceback": [
      "\u001b[0;31m---------------------------------------------------------------------------\u001b[0m",
      "\u001b[0;31mAttributeError\u001b[0m                            Traceback (most recent call last)",
      "\u001b[0;32m<ipython-input-469-62e627bdceb7>\u001b[0m in \u001b[0;36m<module>\u001b[0;34m()\u001b[0m\n\u001b[0;32m----> 1\u001b[0;31m \u001b[0mlm\u001b[0m\u001b[0;34m.\u001b[0m\u001b[0mparams\u001b[0m\u001b[0;34m\u001b[0m\u001b[0m\n\u001b[0m",
      "\u001b[0;31mAttributeError\u001b[0m: 'OLS' object has no attribute 'params'"
     ]
    }
   ],
   "source": [
    "lm.params"
   ]
  },
  {
   "cell_type": "code",
   "execution_count": 470,
   "metadata": {},
   "outputs": [
    {
     "ename": "AttributeError",
     "evalue": "'OLS' object has no attribute 'pvalues'",
     "output_type": "error",
     "traceback": [
      "\u001b[0;31m---------------------------------------------------------------------------\u001b[0m",
      "\u001b[0;31mAttributeError\u001b[0m                            Traceback (most recent call last)",
      "\u001b[0;32m<ipython-input-470-ebbe9e08e9fd>\u001b[0m in \u001b[0;36m<module>\u001b[0;34m()\u001b[0m\n\u001b[0;32m----> 1\u001b[0;31m \u001b[0mlm\u001b[0m\u001b[0;34m.\u001b[0m\u001b[0mpvalues\u001b[0m\u001b[0;34m\u001b[0m\u001b[0m\n\u001b[0m",
      "\u001b[0;31mAttributeError\u001b[0m: 'OLS' object has no attribute 'pvalues'"
     ]
    }
   ],
   "source": [
    "lm.pvalues"
   ]
  },
  {
   "cell_type": "code",
   "execution_count": 485,
   "metadata": {},
   "outputs": [
    {
     "data": {
      "text/html": [
       "<div>\n",
       "<style>\n",
       "    .dataframe thead tr:only-child th {\n",
       "        text-align: right;\n",
       "    }\n",
       "\n",
       "    .dataframe thead th {\n",
       "        text-align: left;\n",
       "    }\n",
       "\n",
       "    .dataframe tbody tr th {\n",
       "        vertical-align: top;\n",
       "    }\n",
       "</style>\n",
       "<table border=\"1\" class=\"dataframe\">\n",
       "  <thead>\n",
       "    <tr style=\"text-align: right;\">\n",
       "      <th></th>\n",
       "      <th>City</th>\n",
       "      <th>Population</th>\n",
       "      <th>Violent\n",
       "crime</th>\n",
       "      <th>Murder and\n",
       "nonnegligent\n",
       "manslaughter</th>\n",
       "      <th>Rape\n",
       "(revised\n",
       "definition)1</th>\n",
       "      <th>Rape\n",
       "(legacy\n",
       "definition)2</th>\n",
       "      <th>Robbery</th>\n",
       "      <th>Aggravated\n",
       "assault</th>\n",
       "      <th>Property\n",
       "crime</th>\n",
       "      <th>Burglary</th>\n",
       "      <th>Larceny-\n",
       "theft</th>\n",
       "      <th>Motor\n",
       "vehicle\n",
       "theft</th>\n",
       "      <th>Arson</th>\n",
       "    </tr>\n",
       "  </thead>\n",
       "  <tbody>\n",
       "    <tr>\n",
       "      <th>0</th>\n",
       "      <td>Aberdeen Township</td>\n",
       "      <td>18,150</td>\n",
       "      <td>19</td>\n",
       "      <td>0.0</td>\n",
       "      <td>NaN</td>\n",
       "      <td>0.0</td>\n",
       "      <td>13</td>\n",
       "      <td>6.0</td>\n",
       "      <td>237</td>\n",
       "      <td>42</td>\n",
       "      <td>185</td>\n",
       "      <td>10</td>\n",
       "      <td>0.0</td>\n",
       "    </tr>\n",
       "    <tr>\n",
       "      <th>1</th>\n",
       "      <td>Absecon</td>\n",
       "      <td>8,380</td>\n",
       "      <td>21</td>\n",
       "      <td>0.0</td>\n",
       "      <td>NaN</td>\n",
       "      <td>2.0</td>\n",
       "      <td>4</td>\n",
       "      <td>15.0</td>\n",
       "      <td>266</td>\n",
       "      <td>91</td>\n",
       "      <td>169</td>\n",
       "      <td>6</td>\n",
       "      <td>0.0</td>\n",
       "    </tr>\n",
       "    <tr>\n",
       "      <th>2</th>\n",
       "      <td>Allendale</td>\n",
       "      <td>6,712</td>\n",
       "      <td>0</td>\n",
       "      <td>0.0</td>\n",
       "      <td>NaN</td>\n",
       "      <td>0.0</td>\n",
       "      <td>0</td>\n",
       "      <td>0.0</td>\n",
       "      <td>37</td>\n",
       "      <td>6</td>\n",
       "      <td>29</td>\n",
       "      <td>2</td>\n",
       "      <td>0.0</td>\n",
       "    </tr>\n",
       "    <tr>\n",
       "      <th>3</th>\n",
       "      <td>Allenhurst</td>\n",
       "      <td>493</td>\n",
       "      <td>0</td>\n",
       "      <td>0.0</td>\n",
       "      <td>NaN</td>\n",
       "      <td>0.0</td>\n",
       "      <td>0</td>\n",
       "      <td>0.0</td>\n",
       "      <td>39</td>\n",
       "      <td>20</td>\n",
       "      <td>18</td>\n",
       "      <td>1</td>\n",
       "      <td>0.0</td>\n",
       "    </tr>\n",
       "    <tr>\n",
       "      <th>4</th>\n",
       "      <td>Allentown</td>\n",
       "      <td>1,812</td>\n",
       "      <td>3</td>\n",
       "      <td>0.0</td>\n",
       "      <td>NaN</td>\n",
       "      <td>0.0</td>\n",
       "      <td>0</td>\n",
       "      <td>3.0</td>\n",
       "      <td>18</td>\n",
       "      <td>12</td>\n",
       "      <td>6</td>\n",
       "      <td>0</td>\n",
       "      <td>0.0</td>\n",
       "    </tr>\n",
       "  </tbody>\n",
       "</table>\n",
       "</div>"
      ],
      "text/plain": [
       "                City Population Violent\\ncrime  \\\n",
       "0  Aberdeen Township     18,150             19   \n",
       "1            Absecon      8,380             21   \n",
       "2          Allendale      6,712              0   \n",
       "3         Allenhurst        493              0   \n",
       "4          Allentown      1,812              3   \n",
       "\n",
       "   Murder and\\nnonnegligent\\nmanslaughter  Rape\\n(revised\\ndefinition)1  \\\n",
       "0                                     0.0                           NaN   \n",
       "1                                     0.0                           NaN   \n",
       "2                                     0.0                           NaN   \n",
       "3                                     0.0                           NaN   \n",
       "4                                     0.0                           NaN   \n",
       "\n",
       "   Rape\\n(legacy\\ndefinition)2 Robbery  Aggravated\\nassault Property\\ncrime  \\\n",
       "0                          0.0      13                  6.0             237   \n",
       "1                          2.0       4                 15.0             266   \n",
       "2                          0.0       0                  0.0              37   \n",
       "3                          0.0       0                  0.0              39   \n",
       "4                          0.0       0                  3.0              18   \n",
       "\n",
       "  Burglary Larceny-\\ntheft Motor\\nvehicle\\ntheft  Arson  \n",
       "0       42             185                    10    0.0  \n",
       "1       91             169                     6    0.0  \n",
       "2        6              29                     2    0.0  \n",
       "3       20              18                     1    0.0  \n",
       "4       12               6                     0    0.0  "
      ]
     },
     "execution_count": 485,
     "metadata": {},
     "output_type": "execute_result"
    }
   ],
   "source": [
    "data2 = ('/Users/Beba/Documents/JupyterNotebooks/NJ_2013Crime.csv')\n",
    "raw_crimes2 = pd.read_csv(data2, skiprows=4)\n",
    "raw_crimes2.head()"
   ]
  },
  {
   "cell_type": "code",
   "execution_count": 487,
   "metadata": {},
   "outputs": [],
   "source": [
    "Jersey_Crime = pd.DataFrame()\n",
    "Jersey_Crime['Murder'] = raw_crimes2['Murder and\\nnonnegligent\\nmanslaughter']\n",
    "Jersey_Crime['Rape'] = raw_crimes2['Rape\\n(legacy\\ndefinition)2'].astype(float)\n",
    "Jersey_Crime['Assault'] = raw_crimes2['Aggravated\\nassault'].astype(float)\n",
    "Jersey_Crime['Robbery'] = raw_crimes2['Robbery'].str.replace(',','').astype(float)"
   ]
  },
  {
   "cell_type": "code",
   "execution_count": 488,
   "metadata": {},
   "outputs": [
    {
     "data": {
      "text/html": [
       "<div>\n",
       "<style>\n",
       "    .dataframe thead tr:only-child th {\n",
       "        text-align: right;\n",
       "    }\n",
       "\n",
       "    .dataframe thead th {\n",
       "        text-align: left;\n",
       "    }\n",
       "\n",
       "    .dataframe tbody tr th {\n",
       "        vertical-align: top;\n",
       "    }\n",
       "</style>\n",
       "<table border=\"1\" class=\"dataframe\">\n",
       "  <thead>\n",
       "    <tr style=\"text-align: right;\">\n",
       "      <th></th>\n",
       "      <th>Murder</th>\n",
       "      <th>Rape</th>\n",
       "      <th>Assault</th>\n",
       "      <th>Robbery</th>\n",
       "    </tr>\n",
       "  </thead>\n",
       "  <tbody>\n",
       "    <tr>\n",
       "      <th>0</th>\n",
       "      <td>0.0</td>\n",
       "      <td>0.0</td>\n",
       "      <td>6.0</td>\n",
       "      <td>13.0</td>\n",
       "    </tr>\n",
       "    <tr>\n",
       "      <th>1</th>\n",
       "      <td>0.0</td>\n",
       "      <td>2.0</td>\n",
       "      <td>15.0</td>\n",
       "      <td>4.0</td>\n",
       "    </tr>\n",
       "    <tr>\n",
       "      <th>2</th>\n",
       "      <td>0.0</td>\n",
       "      <td>0.0</td>\n",
       "      <td>0.0</td>\n",
       "      <td>0.0</td>\n",
       "    </tr>\n",
       "    <tr>\n",
       "      <th>3</th>\n",
       "      <td>0.0</td>\n",
       "      <td>0.0</td>\n",
       "      <td>0.0</td>\n",
       "      <td>0.0</td>\n",
       "    </tr>\n",
       "    <tr>\n",
       "      <th>4</th>\n",
       "      <td>0.0</td>\n",
       "      <td>0.0</td>\n",
       "      <td>3.0</td>\n",
       "      <td>0.0</td>\n",
       "    </tr>\n",
       "  </tbody>\n",
       "</table>\n",
       "</div>"
      ],
      "text/plain": [
       "   Murder  Rape  Assault  Robbery\n",
       "0     0.0   0.0      6.0     13.0\n",
       "1     0.0   2.0     15.0      4.0\n",
       "2     0.0   0.0      0.0      0.0\n",
       "3     0.0   0.0      0.0      0.0\n",
       "4     0.0   0.0      3.0      0.0"
      ]
     },
     "execution_count": 488,
     "metadata": {},
     "output_type": "execute_result"
    }
   ],
   "source": [
    "Jersey_Crime.head()"
   ]
  },
  {
   "cell_type": "code",
   "execution_count": null,
   "metadata": {
    "collapsed": true
   },
   "outputs": [],
   "source": []
  }
 ],
 "metadata": {
  "kernelspec": {
   "display_name": "Python 3",
   "language": "python",
   "name": "python3"
  },
  "language_info": {
   "codemirror_mode": {
    "name": "ipython",
    "version": 3
   },
   "file_extension": ".py",
   "mimetype": "text/x-python",
   "name": "python",
   "nbconvert_exporter": "python",
   "pygments_lexer": "ipython3",
   "version": "3.6.1"
  }
 },
 "nbformat": 4,
 "nbformat_minor": 2
}
